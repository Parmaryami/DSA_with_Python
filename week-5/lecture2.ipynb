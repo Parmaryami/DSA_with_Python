{
 "cells": [
  {
   "cell_type": "markdown",
   "id": "9995ee93",
   "metadata": {},
   "source": [
    "# Dealing with files\n",
    "\n",
    "Standard input and output is not convenient for\n",
    "large volumes of data. Instead, read and write files on the disk. Disk read/write is much slower than memory"
   ]
  },
  {
   "cell_type": "markdown",
   "id": "449f9769",
   "metadata": {},
   "source": [
    "# Disk buffers\n",
    "\n",
    "* Disk data is read/written in large blocks\n",
    "\n",
    "* “Buffer” is a temporary parking place for disk data\n",
    "\n",
    "# Reading/writing disk data\n",
    "\n",
    "* Open a file — create file handle to file on disk (like setting up a buffer for the file)\n",
    "\n",
    "* Read and write operations are to file handle\n",
    "\n",
    "* Close a file\n",
    "    * Write out buffer to disk (flush)\n",
    "    * Disconnect file handle\n"
   ]
  },
  {
   "cell_type": "markdown",
   "id": "9522623b",
   "metadata": {},
   "source": [
    "# Opening a file\n",
    "\n",
    "fh = open(\"gcd.py\", \"r\")\n",
    "\n",
    "* First argument to open is file name Can give a full path\n",
    "\n",
    "* Second argument is mode for opening file\n",
    "\n",
    "1. Read, \"r\": opens a file for reading only\n",
    "2. Write, \"w\": creates an empty file to write to\n",
    "3. Append, \"a\": append to an existing file"
   ]
  },
  {
   "cell_type": "code",
   "execution_count": 7,
   "id": "b99e5145",
   "metadata": {},
   "outputs": [
    {
     "name": "stdout",
     "output_type": "stream",
     "text": [
      "Sucess\n",
      "sucess\n"
     ]
    }
   ],
   "source": [
    "fh = open(\"lecture1.ipynb\", \"r\")\n",
    "print(\"Sucess\")\n",
    "\n",
    "content = fh.read(10)\n",
    "\n",
    "# Reads entire file into name as a single string\n",
    "# Reads entire file as list of strings Each string is one line, ending with'\\n'\n",
    "\n",
    "contents = fh.readline()\n",
    "print(\"sucess\")\n",
    "\n",
    "# When reading incrementally, important to know when file has ended\n",
    "\n",
    "fh.close()"
   ]
  },
  {
   "cell_type": "markdown",
   "id": "6cd9cbcd",
   "metadata": {},
   "source": [
    "# String prosessing \n",
    "\n",
    "* Easy to read and write text files\n",
    "\n",
    "* String processing functions make it easy to analyse and transform contents\n",
    "    * Search and replace text\n",
    "    * Export spreadsheet as text file (csv) and process columns"
   ]
  },
  {
   "cell_type": "markdown",
   "id": "d7cb6a26",
   "metadata": {},
   "source": [
    "Strip whiteSpace: \n",
    "\n",
    "s.rstrip() removes traillng whiteSpace"
   ]
  },
  {
   "cell_type": "code",
   "execution_count": 3,
   "id": "9e90e292",
   "metadata": {},
   "outputs": [
    {
     "name": "stdout",
     "output_type": "stream",
     "text": [
      "   ArithmeticError :removes trailing whitespace\n",
      "ArithmeticError    :removes leading whitespace\n",
      "ArithmeticError :removes leading and trailing whitespace\n"
     ]
    }
   ],
   "source": [
    "s = \"   ArithmeticError   \"\n",
    "\n",
    "print(s.rstrip(),\":removes trailing whitespace\")\n",
    "print(s.lstrip(),\":removes leading whitespace\")\n",
    "print(s.strip(),\":removes leading and trailing whitespace\")"
   ]
  },
  {
   "cell_type": "markdown",
   "id": "896ff4f6",
   "metadata": {},
   "source": [
    "# Searching for text\n",
    "\n",
    "s.find(pattern)\n",
    "\n",
    "Returns first position in s where pattern occurs, -1 if\n",
    "no occurrence of pattern\n",
    "\n",
    "s.find(pattern,start,end)\n",
    "\n",
    "Search for pattern in slice s[start:end]\n",
    "\n",
    "s.index(pattern), s.index(pattern,l,r)\n",
    "\n",
    "Like find, but raise ValueError if pattern not found"
   ]
  },
  {
   "cell_type": "markdown",
   "id": "e32b532b",
   "metadata": {},
   "source": [
    "# Search and replace\n",
    "\n",
    "s.replace(fromstr,tostr)\n",
    "\n",
    "Returns copy of s with each occurrence of\n",
    "fromstr replaced by tostr\n",
    "\n",
    "s.replace(fromstr,tostr,n)\n",
    "\n",
    "Replace at most first n copies\n",
    "\n",
    "Note that s itself is unchanged — strings are\n",
    "immutable"
   ]
  },
  {
   "cell_type": "markdown",
   "id": "318ab496",
   "metadata": {},
   "source": [
    "# Splitting a string\n",
    "\n",
    "Export spreadsheet as “comma separated value” text file\n",
    "\n",
    "Want to extract columns from a line of text\n",
    "\n",
    "Split the line into chunks between commas\n",
    "\n",
    "columns = s.split(\",\")\n",
    "\n",
    "Can split using any separator string\n",
    "\n",
    "Split into at most n chunks\n",
    "\n",
    "columns = s.split(\" : \", n)"
   ]
  },
  {
   "cell_type": "code",
   "execution_count": 6,
   "id": "16892c74",
   "metadata": {},
   "outputs": [
    {
     "name": "stdout",
     "output_type": "stream",
     "text": [
      "4\n",
      "Hello world\n",
      "['hello', 'world']\n"
     ]
    }
   ],
   "source": [
    "# find:\n",
    "\n",
    "s = \"hello world\"\n",
    "r1 = s.find('o')\n",
    "r2 = s.replace('h','H')\n",
    "columns = s.split()\n",
    "\n",
    "print(r1)\n",
    "print(r2)\n",
    "print(columns)\n"
   ]
  },
  {
   "cell_type": "markdown",
   "id": "37b0b289",
   "metadata": {},
   "source": [
    "# Joining strings\n",
    "\n",
    "* Recombine a list of strings using a separator"
   ]
  },
  {
   "cell_type": "code",
   "execution_count": null,
   "id": "41f921dc",
   "metadata": {},
   "outputs": [],
   "source": [
    "\n",
    "columns = s.split(\",\")\n",
    "joinstring = \",\"\n",
    "csvline = joinstring.join(columns)\n",
    "\n",
    "date = \"16\"\n",
    "month = \"08\"\n",
    "year = \"2016\"\n",
    "today = \"-\".join([date,month,year])"
   ]
  },
  {
   "cell_type": "markdown",
   "id": "e6e4a951",
   "metadata": {},
   "source": [
    "# Converting case\n",
    "\n",
    "* Convert lower case to upper case, ...\n",
    "\n",
    "* s.capitalize() — return new string with first letter uppercase, rest lower\n",
    "\n",
    "* s.lower() — convert all uppercase to lowercase\n",
    "\n",
    "* s.upper() — convert all lowercase to uppercase\n",
    "\n",
    "* s.title(), s.swapcase()\n",
    "\n",
    "* s.center(n)\n",
    "\n",
    "* Returns string of length n with s centred, rest blank\n",
    "\n",
    "* s.center(n,\"*\")\n",
    "\n",
    "* Fill the rest with * instead of blanks\n",
    "\n",
    "* s.ljust(n), s.ljust(n,\"*\"), s.rjust(n), ...\n",
    "\n",
    "* Similar, but left/right justify s in returned string"
   ]
  },
  {
   "cell_type": "markdown",
   "id": "72144c5d",
   "metadata": {},
   "source": [
    "# Formatted printing\n",
    "\n",
    "* Recall that we have limited control over how print() display output.\n",
    "* Optional argument end=\"...\" changes default new line at the end of print\n",
    "* Optional argument sep=\"...\" changes default\n",
    "separator between items"
   ]
  },
  {
   "cell_type": "code",
   "execution_count": 13,
   "id": "2eeb664c",
   "metadata": {},
   "outputs": [
    {
     "name": "stdout",
     "output_type": "stream",
     "text": [
      "first:21, second:31\n",
      "second:31, first21\n",
      "One: 47, two: 11\n",
      "One: 47, two: 11\n",
      "Value:   4\n",
      "Value:  47.52\n"
     ]
    }
   ],
   "source": [
    "print(\"first:{0}, second:{1}\".format(21,31))\n",
    "\n",
    "print(\"second:{1}, first{0}\".format(21,31))\n",
    "\n",
    "# Can also replace arguments by name\n",
    "\n",
    "print(\"One: {f}, two: {s}\".format(f=47,s=11))\n",
    "\n",
    "print(\"One: {f}, two: {s}\".format(s=11,f=47))\n",
    "\n",
    "print(\"Value: {0:3d}\".format(4))\n",
    "# 3d describes how to display the value 4\n",
    "# d is a code specifies that 4 should be treated as an integer value\n",
    "# 3 is the width of the area to show 4\n",
    "\n",
    "print(\"Value: {0:6.2f}\".format(47.523))\n"
   ]
  },
  {
   "cell_type": "markdown",
   "id": "a3545595",
   "metadata": {},
   "source": [
    "# Now, real formatting\n",
    "\n",
    ">>> \"Value: {0:6.2f}\".format(47.523)\n",
    "\n",
    "6.2f describes how to display the value 47.523\n",
    "\n",
    "f is a code specifies that 47.523 should be treated\n",
    "as a floating point value\n",
    "\n",
    "* 6 — width of the area to show 47.523\n",
    "\n",
    "* 2 — number of digits to show after decimal point\n",
    "\n",
    "\"Value: 47.52\""
   ]
  },
  {
   "cell_type": "markdown",
   "id": "4e9d3aa3",
   "metadata": {},
   "source": [
    "# Doing nothing\n",
    "\n",
    "Blocks such as except:, else:, ...cannot be empty\n",
    "Use pass for a null statement"
   ]
  },
  {
   "cell_type": "code",
   "execution_count": null,
   "id": "b0d3f2de",
   "metadata": {},
   "outputs": [],
   "source": [
    "\n",
    "while(True):\n",
    "    try:\n",
    "        userdata = input(\"Enter a number: \")\n",
    "        usernum = int(userdata)\n",
    "    except ValueError:\n",
    "        pass\n",
    "    else:\n",
    "        break"
   ]
  },
  {
   "cell_type": "markdown",
   "id": "19739d14",
   "metadata": {},
   "source": [
    "# Removing a list entry\n",
    "\n",
    "* Want to remove l[4]?\n",
    "\n",
    "del(l[4])\n",
    "\n",
    "* Automatically contracts the list and shifts elements in l[5:] left\n",
    "\n",
    "* Also works for dictionaries\n",
    "\n",
    "* del(d[k]) removes the key k and its associated value"
   ]
  },
  {
   "cell_type": "markdown",
   "id": "e00a9e56",
   "metadata": {},
   "source": [
    "# Checking undefined name\n",
    "\n",
    "* Assign a value to x only if x is undefined\n",
    "\n",
    "try:\n",
    "    x\n",
    "except NameError:\n",
    "    x = 5\n",
    "\n",
    "# The value None\n",
    "\n",
    "None is a special value used to denote “nothing”. Use it to initialise a name and later check if it has been assigned a valid value\n",
    "\n",
    "x = None\n",
    "\n",
    "...\n",
    "\n",
    "if x is not None:\n",
    "y = x\n",
    "\n",
    "Exactly one value None\n",
    "\n",
    "x is None is same as\n",
    "x == None"
   ]
  }
 ],
 "metadata": {
  "kernelspec": {
   "display_name": "Python 3",
   "language": "python",
   "name": "python3"
  },
  "language_info": {
   "codemirror_mode": {
    "name": "ipython",
    "version": 3
   },
   "file_extension": ".py",
   "mimetype": "text/x-python",
   "name": "python",
   "nbconvert_exporter": "python",
   "pygments_lexer": "ipython3",
   "version": "3.12.3"
  }
 },
 "nbformat": 4,
 "nbformat_minor": 5
}
