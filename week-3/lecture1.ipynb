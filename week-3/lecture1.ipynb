{
 "cells": [
  {
   "cell_type": "markdown",
   "id": "359946b5",
   "metadata": {},
   "source": [
    "More about range()\n",
    "\n",
    "* range(i,j) produces the sequence i, i+1, .... j-1\n",
    "* range(j) automatically start from 0; 0,1,.....,j-1\n",
    "* range(i,j,k) increments by k; i, i+k, ...., i+nk\n",
    "    stops with n such that i+nk < j <= i+(n+1)k\n",
    "\n",
    "* Count down? Make k negative!\n",
    "range(i,j,-1), i > j, produces i,i-1,....j+1\n",
    "\n",
    "* general rule for range(i,j,k): sequence starts from i and gets as close to j as possible without crossing j \n",
    "\n",
    "* if k is positive and i >= j, empty sequence \n",
    "* similarly if k is negative and i <= j\n",
    "* if k is negative, stop \"befor\" j. range(12,1,-3) produces 12,9,6,3\n",
    "\n",
    "# why does range(i,j) stop at j-1?\n",
    "\n",
    "Mainly to make it easier to process lists\n",
    "\n",
    "list of length n has positions 0,1,....,n-1\n",
    "\n",
    "range(0,len(l)) produces correct range of valid indices"
   ]
  },
  {
   "cell_type": "code",
   "execution_count": 3,
   "id": "634dd5a1",
   "metadata": {},
   "outputs": [
    {
     "name": "stdout",
     "output_type": "stream",
     "text": [
      "0,1,2,3,4,5,6,7,8,9,\n",
      "0,1,2,3,4,5,6,7,8,9,"
     ]
    }
   ],
   "source": [
    "# compare the following two loops\n",
    "\n",
    "for i in [0,1,2,3,4,5,6,7,8,9]:\n",
    "    print(i,end=\",\")\n",
    "print()\n",
    "for i in range(10):\n",
    "    print(i,end=\",\")"
   ]
  },
  {
   "cell_type": "code",
   "execution_count": 5,
   "id": "908a39fe",
   "metadata": {},
   "outputs": [
    {
     "name": "stdout",
     "output_type": "stream",
     "text": [
      "[0, 1, 2, 3, 4, 5, 6, 7, 8, 9]\n",
      "range(0, 10)\n"
     ]
    }
   ],
   "source": [
    "# convert range() and lists\n",
    "print(list(range(10)))  \n",
    "print(range(10))\n"
   ]
  },
  {
   "cell_type": "code",
   "execution_count": null,
   "id": "34fe3603",
   "metadata": {},
   "outputs": [
    {
     "name": "stdout",
     "output_type": "stream",
     "text": [
      "78 <class 'int'>\n",
      "78 <class 'str'>\n",
      "78.0 <class 'float'>\n"
     ]
    },
    {
     "ename": "ValueError",
     "evalue": "invalid literal for int() with base 10: '32x'",
     "output_type": "error",
     "traceback": [
      "\u001b[31m---------------------------------------------------------------------------\u001b[39m",
      "\u001b[31mValueError\u001b[39m                                Traceback (most recent call last)",
      "\u001b[36mCell\u001b[39m\u001b[36m \u001b[39m\u001b[32mIn[6]\u001b[39m\u001b[32m, line 11\u001b[39m\n\u001b[32m      8\u001b[39m c = \u001b[38;5;28mfloat\u001b[39m(\u001b[32m78\u001b[39m)\n\u001b[32m      9\u001b[39m \u001b[38;5;28mprint\u001b[39m(c, \u001b[38;5;28mtype\u001b[39m(c))\n\u001b[32m---> \u001b[39m\u001b[32m11\u001b[39m d = \u001b[38;5;28;43mint\u001b[39;49m\u001b[43m(\u001b[49m\u001b[33;43m\"\u001b[39;49m\u001b[33;43m32x\u001b[39;49m\u001b[33;43m\"\u001b[39;49m\u001b[43m)\u001b[49m\n\u001b[32m     12\u001b[39m \u001b[38;5;28mprint\u001b[39m(d, \u001b[38;5;28mtype\u001b[39m(d))\n",
      "\u001b[31mValueError\u001b[39m: invalid literal for int() with base 10: '32x'"
     ]
    }
   ],
   "source": [
    "# Other type conversion functions using type names\n",
    "\n",
    "a = 78\n",
    "print(a, type(a))\n",
    "b = str(78)\n",
    "print(b, type(b))\n",
    "\n",
    "c = float(78)\n",
    "print(c, type(c))\n",
    "\n",
    "d = int(\"32x\")   # ValueError: invalid literal for int() with base 10: '32x'\n",
    "print(d, type(d))"
   ]
  },
  {
   "cell_type": "markdown",
   "id": "3558b219",
   "metadata": {},
   "source": [
    "# Lists\n",
    "\n",
    "Lists are mutable."
   ]
  },
  {
   "cell_type": "code",
   "execution_count": null,
   "id": "06c99810",
   "metadata": {},
   "outputs": [
    {
     "name": "stdout",
     "output_type": "stream",
     "text": [
      "[1, 3, 7, 6]\n",
      "[1, 3, 7, 6]\n",
      "on the other hand\n",
      "[1, 3, 7, 6]\n",
      "[1, 3, 5, 6]\n",
      "Adding an element to a list, in place\n",
      "[1, 3, 5, 6, 12]\n",
      "[1, 3, 5, 6, 12]\n",
      "Extending a list\n",
      "[1, 3, 5, 6, 12]\n",
      "[1, 3, 5, 6]\n"
     ]
    }
   ],
   "source": [
    "list1 = [1,3,5,6]\n",
    "list2 = list1\n",
    "list1[2] = 7\n",
    "print(list1)\n",
    "print(list2)\n",
    "\n",
    "print(\"on the other hand\")\n",
    "list1 = [1,3,5,6]\n",
    "list2 = list1\n",
    "list1 = list1[0:2]+[7]+list1[3:]  #concatenation produce new list\n",
    "print(list1)\n",
    "print(list2)\n",
    "\n",
    "print(\"Adding an element to a list, in place\")\n",
    "\n",
    "list1 = [1,3,5,6]\n",
    "list2 = list1\n",
    "list1.append(12)\n",
    "print(list1)\n",
    "print(list2)\n",
    "\n",
    "print(\"Extending a list\")\n",
    "\n",
    "list1 = [1,3,5,6]\n",
    "list2 = list1\n",
    "list1 = list1 + [12] # conatenation produce a new list\n",
    "\n",
    "print(list1)\n",
    "print(list2)  "
   ]
  },
  {
   "cell_type": "markdown",
   "id": "6fbae71c",
   "metadata": {},
   "source": [
    "List Functions\n",
    "\n",
    "list1.append(v) — extend list1 by a single\n",
    "value v\n",
    "\n",
    "list1.extend(list2) — extend list1 by a list of\n",
    "values\n",
    "\n",
    "In place equivalent of list1 = list1 + list2\n",
    "\n",
    "list1.remove(x) — removes first occurrence of x\n",
    "\n",
    "Error if no copy of x exists in list1\n",
    "\n",
    "l.reverse() — reverse l in place\n",
    "\n",
    "l.sort() — sort l in ascending order\n",
    "\n",
    "l.index(x) — find leftmost position of x in l\n",
    "\n",
    "Avoid error by checking if x in l\n",
    "\n",
    "l.rindex(x) — find rightmost position of x in l\n"
   ]
  },
  {
   "cell_type": "markdown",
   "id": "111dff88",
   "metadata": {},
   "source": [
    "Further list manipulation"
   ]
  },
  {
   "cell_type": "code",
   "execution_count": 12,
   "id": "14d1f082",
   "metadata": {},
   "outputs": [
    {
     "name": "stdout",
     "output_type": "stream",
     "text": [
      "[1, 3, 7, 8]\n",
      "[1, 3, 7, 8]\n",
      "list1 before slice expansion/shrinking [1, 3, 7, 8]\n",
      "Expanding a slice [1, 3, 9, 10, 11]\n",
      "Shrinking a slice [7, 9, 10, 11]\n"
     ]
    }
   ],
   "source": [
    "# Can also assign to a slice in place\n",
    "\n",
    "list1 = [1,3,5,6]\n",
    "list2 = list1\n",
    "list1[2:] = [7,8]\n",
    "\n",
    "print(list1)\n",
    "print(list2)\n",
    "\n",
    "# Can expand/shrink slices, but be sure you know what you are doing!\n",
    "print(\"list1 before slice expansion/shrinking\",list1)\n",
    "list1[2:] = [9,10,11]\n",
    "print(\"Expanding a slice\",list1) \n",
    "\n",
    "list1[0:2]= [7]\n",
    "print(\"Shrinking a slice\",list1)"
   ]
  },
  {
   "cell_type": "markdown",
   "id": "289e7cd9",
   "metadata": {},
   "source": [
    "List membership\n",
    "\n",
    "x in l rturn True if value x is found in list l"
   ]
  },
  {
   "cell_type": "code",
   "execution_count": null,
   "id": "400c52d5",
   "metadata": {},
   "outputs": [
    {
     "name": "stdout",
     "output_type": "stream",
     "text": [
      "[1, 3, 7, 9]\n"
     ]
    }
   ],
   "source": [
    "x = 5\n",
    "l = [1,3,5,7,9,5,5]\n",
    "print(\"origial list:\",l)\n",
    "\n",
    "# Safely remove x from l \n",
    "if x in l:\n",
    "    l.remove(x)\n",
    "print(l)\n",
    "\n",
    "# remove all occurrences of x from l\n",
    "while x in l:\n",
    "    l.remove(x)\n",
    "\n",
    "print(l)"
   ]
  },
  {
   "cell_type": "markdown",
   "id": "46cd4e7b",
   "metadata": {},
   "source": [
    "Initialising names\n",
    "\n",
    "A name cannot be used before it is assigned a\n",
    "value\n",
    "\n",
    "y = x + 1 # Error if x is unassigned\n",
    "\n",
    "May forget this for lists where update is implicit\n",
    "\n",
    "l.append(v)\n",
    "\n",
    "Python needs to know that l is a list"
   ]
  },
  {
   "cell_type": "code",
   "execution_count": 16,
   "id": "3e02dbea",
   "metadata": {},
   "outputs": [
    {
     "ename": "NameError",
     "evalue": "name 'flist' is not defined",
     "output_type": "error",
     "traceback": [
      "\u001b[31m---------------------------------------------------------------------------\u001b[39m",
      "\u001b[31mNameError\u001b[39m                                 Traceback (most recent call last)",
      "\u001b[36mCell\u001b[39m\u001b[36m \u001b[39m\u001b[32mIn[16]\u001b[39m\u001b[32m, line 7\u001b[39m\n\u001b[32m      4\u001b[39m             flist.append(i)\n\u001b[32m      5\u001b[39m     \u001b[38;5;28;01mreturn\u001b[39;00m flist\n\u001b[32m----> \u001b[39m\u001b[32m7\u001b[39m \u001b[38;5;28mprint\u001b[39m(\u001b[43mfactors\u001b[49m\u001b[43m(\u001b[49m\u001b[32;43m28\u001b[39;49m\u001b[43m)\u001b[49m)\n",
      "\u001b[36mCell\u001b[39m\u001b[36m \u001b[39m\u001b[32mIn[16]\u001b[39m\u001b[32m, line 4\u001b[39m, in \u001b[36mfactors\u001b[39m\u001b[34m(n)\u001b[39m\n\u001b[32m      2\u001b[39m \u001b[38;5;28;01mfor\u001b[39;00m i \u001b[38;5;129;01min\u001b[39;00m \u001b[38;5;28mrange\u001b[39m(\u001b[32m1\u001b[39m,n+\u001b[32m1\u001b[39m):\n\u001b[32m      3\u001b[39m     \u001b[38;5;28;01mif\u001b[39;00m n % i == \u001b[32m0\u001b[39m:\n\u001b[32m----> \u001b[39m\u001b[32m4\u001b[39m         \u001b[43mflist\u001b[49m.append(i)\n\u001b[32m      5\u001b[39m \u001b[38;5;28;01mreturn\u001b[39;00m flist\n",
      "\u001b[31mNameError\u001b[39m: name 'flist' is not defined"
     ]
    }
   ],
   "source": [
    "def factors(n):\n",
    "    for i in range(1,n+1):\n",
    "        if n % i == 0:\n",
    "            flist.append(i)\n",
    "    return flist\n",
    "\n",
    "print(factors(28))"
   ]
  },
  {
   "cell_type": "code",
   "execution_count": 17,
   "id": "d130d2f0",
   "metadata": {},
   "outputs": [
    {
     "name": "stdout",
     "output_type": "stream",
     "text": [
      "[1, 2, 4, 7, 14, 28]\n"
     ]
    }
   ],
   "source": [
    "def factors(n):\n",
    "    flist = []\n",
    "    for i in range(1,n+1):\n",
    "        if n % i == 0:\n",
    "            flist.append(i)\n",
    "    return flist\n",
    "\n",
    "print(factors(28))"
   ]
  },
  {
   "cell_type": "markdown",
   "id": "87b33a14",
   "metadata": {},
   "source": [
    "Loops Revisited:"
   ]
  },
  {
   "cell_type": "code",
   "execution_count": 23,
   "id": "0ac624b9",
   "metadata": {},
   "outputs": [
    {
     "name": "stdout",
     "output_type": "stream",
     "text": [
      "using for loop and index\n",
      "3\n",
      "using while loop\n",
      "-1\n",
      "using list membership\n",
      "1\n"
     ]
    }
   ],
   "source": [
    "# Search for value in a list\n",
    "print(\"using for loop and index\")\n",
    "def findpos(l,x):\n",
    "    for i in range(len(l)):\n",
    "        if l[i] == x:\n",
    "            return i \n",
    "    return -1\n",
    "print(findpos([1,3,5,7,9],7))\n",
    "\n",
    "print(\"using while loop\")\n",
    "def findpos2(l,x):\n",
    "    (found, i) = (False,0)\n",
    "    while i<len(l):\n",
    "        if l[i] == x:\n",
    "            (found, pos) = (True,i)\n",
    "            break\n",
    "        i += 1\n",
    "    if not found:\n",
    "        pos = -1\n",
    "    return pos\n",
    "print(findpos2([1,3,5,7,9],10))\n",
    "\n",
    "print(\"using list membership\")\n",
    "def findpos3(l,x):\n",
    "    for i in l:\n",
    "        if i == x:\n",
    "            return l.index(i)\n",
    "    return -1\n",
    "print(findpos3([1,3,5,7,9],3))  \n",
    "            \n"
   ]
  },
  {
   "cell_type": "markdown",
   "id": "fb548f58",
   "metadata": {},
   "source": [
    "Summary\n",
    "\n",
    "Can exit prematurely from loop using break\n",
    "\n",
    "Applies to both for and while\n",
    "\n",
    "Loop also has an else: clause\n",
    "\n",
    "Special action for normal termination"
   ]
  }
 ],
 "metadata": {
  "kernelspec": {
   "display_name": "Python 3",
   "language": "python",
   "name": "python3"
  },
  "language_info": {
   "codemirror_mode": {
    "name": "ipython",
    "version": 3
   },
   "file_extension": ".py",
   "mimetype": "text/x-python",
   "name": "python",
   "nbconvert_exporter": "python",
   "pygments_lexer": "ipython3",
   "version": "3.12.3"
  }
 },
 "nbformat": 4,
 "nbformat_minor": 5
}
