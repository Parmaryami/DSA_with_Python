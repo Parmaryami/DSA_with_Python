{
 "cells": [
  {
   "cell_type": "markdown",
   "id": "30922cef",
   "metadata": {},
   "source": [
    "Inductive definitions\n",
    "\n",
    "* Define one or more base cases\n",
    "* Inductive step defines f(n) in terms of smaller arguments\n",
    "\n",
    "Many arithmetic functions are naturally defined\n",
    "inductively.(e.g: Factorial)\n",
    "\n",
    "0! = 1\n",
    "n! = n x (n-1)!\n",
    "\n",
    "Multiplication — repeated addition\n",
    "m x 1 = m\n",
    "m x n = m + (m x (n-1))\n",
    "\n",
    "* Inductive definitions naturally give rise to recursive programs"
   ]
  },
  {
   "cell_type": "code",
   "execution_count": 1,
   "id": "0ad8a57d",
   "metadata": {},
   "outputs": [
    {
     "name": "stdout",
     "output_type": "stream",
     "text": [
      "120\n"
     ]
    }
   ],
   "source": [
    "def factorial(n):\n",
    "    if n == 0:\n",
    "        return 1\n",
    "    else:\n",
    "        return n * factorial(n - 1)\n",
    "print(factorial(5))"
   ]
  },
  {
   "cell_type": "code",
   "execution_count": 2,
   "id": "71c6fda5",
   "metadata": {},
   "outputs": [
    {
     "name": "stdout",
     "output_type": "stream",
     "text": [
      "15\n"
     ]
    }
   ],
   "source": [
    "def multiply(m,n):\n",
    "    if n == 1:\n",
    "        return(m)\n",
    "    else:\n",
    "        return(m + multiply(m,n-1))\n",
    "print(multiply(5,3))\n"
   ]
  },
  {
   "cell_type": "markdown",
   "id": "81062802",
   "metadata": {},
   "source": [
    "# Inductive definitions for lists:\n",
    "\n",
    "Lists can be decomposed as First (or last) element, Remaining list with one less element\n",
    "\n",
    "# Define list functions inductively:\n",
    "\n",
    "Base case: empty list or list of size 1\n",
    "Inductive step: f(l) in terms of smaller sublists of l"
   ]
  },
  {
   "cell_type": "code",
   "execution_count": 3,
   "id": "c95754b2",
   "metadata": {},
   "outputs": [
    {
     "name": "stdout",
     "output_type": "stream",
     "text": [
      "5\n",
      "15\n",
      "5\n"
     ]
    }
   ],
   "source": [
    "# Length of a list\n",
    "def length(l):\n",
    "    if l == []:\n",
    "        return 0\n",
    "    else:\n",
    "        return 1 + length(l[1:])\n",
    "print(length([1,2,3,4,5]))\n",
    "\n",
    "# Sum of elements in a list\n",
    "def sum_list(l):\n",
    "    if l == []:\n",
    "        return 0\n",
    "    else:\n",
    "        return l[0] + sum_list(l[1:])\n",
    "    \n",
    "print(sum_list([1,2,3,4,5]))\n",
    "\n",
    "# Maximum element in a list\n",
    "def max_list(l):\n",
    "    if len(l) == 1:\n",
    "        return l[0]\n",
    "    else:\n",
    "        m = max_list(l[1:])\n",
    "        if l[0] > m:\n",
    "            return l[0]\n",
    "        else:\n",
    "            return m\n",
    "print(max_list([1,2,3,4,5]))\n",
    "\n",
    "    "
   ]
  },
  {
   "cell_type": "markdown",
   "id": "42400889",
   "metadata": {},
   "source": [
    "Recursive insertion sort\n",
    "\n",
    "Base case: \n",
    "    if list has length 1 or 0, return the list\n",
    "    \n",
    "Inductive step: \n",
    "    Inductively sort slice l[0:len(l)-1]\n",
    "    Insert l[len(l)-1] into this sorted slice"
   ]
  },
  {
   "cell_type": "code",
   "execution_count": 6,
   "id": "153e5bb9",
   "metadata": {},
   "outputs": [
    {
     "name": "stdout",
     "output_type": "stream",
     "text": [
      "[5, 10, 15, 20, 25, 30, 35, 40, 45, 50, 55, 60, 65, 70, 75, 80, 85, 90, 95, 100, 105, 110, 115, 120, 125, 130, 135, 140, 145, 150, 155, 160, 165, 170, 175, 180, 185, 190, 195, 200, 205, 210, 215, 220, 225, 230, 235, 240, 245, 250, 255, 260, 265, 270, 275, 280, 285, 290, 295, 300, 305, 310, 315, 320, 325, 330, 335, 340, 345, 350, 355, 360, 365, 370, 375, 380, 385, 390, 395, 400, 405, 410, 415, 420, 425, 430, 435, 440, 445, 450, 455, 460, 465, 470, 475, 480, 485, 490, 495, 500, 505, 510, 515, 520, 525, 530, 535, 540, 545, 550, 555, 560, 565, 570, 575, 580, 585, 590, 595, 600, 605, 610, 615, 620, 625, 630, 635, 640, 645, 650, 655, 660, 665, 670, 675, 680, 685, 690, 695, 700, 705, 710, 715, 720, 725, 730, 735, 740, 745, 750, 755, 760, 765, 770, 775, 780, 785, 790, 795, 800, 805, 810, 815, 820, 825, 830, 835, 840, 845, 850, 855, 860, 865, 870, 875, 880, 885, 890, 895, 900, 905, 910, 915, 920, 925, 930, 935, 940, 945, 950, 955, 960, 965, 970, 975, 980, 985, 990, 995, 1000]\n"
     ]
    }
   ],
   "source": [
    "# Recursive insertion sort\n",
    "\n",
    "def InsertionSort(seq):\n",
    "    isort(seq,len(seq))\n",
    "\n",
    "def isort(seq,k): # Sort slice seq[0:k]\n",
    "    if k > 1:\n",
    "        isort(seq,k-1)\n",
    "        insert(seq,k-1)\n",
    "\n",
    "def insert(seq,k): # Insert seq[k] into sorted seq[0:k-1]\n",
    "    pos = k\n",
    "    while pos > 0 and seq[pos] < seq[pos-1]:\n",
    "        (seq[pos],seq[pos-1]) = (seq[pos-1],seq[pos])\n",
    "        pos = pos-1\n",
    "\n",
    "A = list(range(1000,0,-5))\n",
    "InsertionSort(A)\n",
    "print(A)"
   ]
  },
  {
   "cell_type": "markdown",
   "id": "eede72f4",
   "metadata": {},
   "source": [
    "Recursive insertion sort\n",
    "\n",
    "T(n), time to run insertion sort on length n\n",
    "Time T(n-1) to sort slice seq[0:n-1]\n",
    "\n",
    "n-1 steps to insert seq[n-1] in sorted slice"
   ]
  },
  {
   "cell_type": "markdown",
   "id": "b6dd4cdf",
   "metadata": {},
   "source": [
    "O(n2) sorting algorithms\n",
    "\n",
    "Selection sort and insertion sort are both O(n2)\n",
    "\n",
    "Among O(n2) sorts, insertion sort is usually better than selection sort\n",
    "\n",
    "What happens when we apply insertion sort to an already sorted list?"
   ]
  }
 ],
 "metadata": {
  "kernelspec": {
   "display_name": "Python 3",
   "language": "python",
   "name": "python3"
  },
  "language_info": {
   "codemirror_mode": {
    "name": "ipython",
    "version": 3
   },
   "file_extension": ".py",
   "mimetype": "text/x-python",
   "name": "python",
   "nbconvert_exporter": "python",
   "pygments_lexer": "ipython3",
   "version": "3.12.3"
  }
 },
 "nbformat": 4,
 "nbformat_minor": 5
}
