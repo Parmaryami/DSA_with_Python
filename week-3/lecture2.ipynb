{
 "cells": [
  {
   "cell_type": "markdown",
   "id": "16b2717d",
   "metadata": {},
   "source": [
    "# Sequences of values\n",
    "\n",
    "Two basic ways of storing a sequence of values \n",
    "1. Arrays\n",
    "2. Lists\n",
    "\n",
    "# what is difference \n",
    "\n",
    "Arrays :\n",
    "\n",
    "Single block of memory, element of uniform type and size of sequence is fixed in advance.\n",
    "\n",
    "Indexing is fast Access seq[i] -> constant time for any i\n",
    "Inserting between seq[i] and seq[i+1] is expensive \n",
    "\n",
    "Lists :\n",
    "\n",
    "Values scattered in memory. Each element points to the next—“linked” list and Flexible size\n",
    "\n",
    "Follow i links to access seq[i]\n",
    "Cost proportional to i\n",
    "Inserting or deleting an element is easy as “Plumbing”\n"
   ]
  },
  {
   "cell_type": "markdown",
   "id": "1913fdfc",
   "metadata": {},
   "source": [
    "# Operations\n",
    "\n",
    "1. Exchange seq[i] and seq[j]\n",
    "    Array -> constant\n",
    "    List  -> Linear\n",
    "    \n",
    "2. Delete seq[i] or Insert v after seq[i]\n",
    "    Array -> Linear\n",
    "    List  -> Constant\n"
   ]
  },
  {
   "cell_type": "markdown",
   "id": "38c8a0c3",
   "metadata": {},
   "source": [
    "Search problem:\n",
    "\n",
    "Algorithms on one data structure may not transfer\n",
    "to another\n",
    "Example: Binary search\n",
    "\n",
    "Does the structure of seq matter?\n",
    "Array vs list\n",
    "\n",
    "Does the organization of the information matter?\n",
    "Values sorted/unsorted\n",
    "\n",
    "Searching for a value\n",
    "Unsorted array — linear scan, O(n)\n",
    "Sorted array — binary search, O(log n)"
   ]
  },
  {
   "cell_type": "code",
   "execution_count": 3,
   "id": "08411a5d",
   "metadata": {},
   "outputs": [],
   "source": [
    "# The Unsorted case\n",
    "\n",
    "def search(seq,v):\n",
    "    for x in seq:\n",
    "        if x == v:\n",
    "            return True\n",
    "    return False"
   ]
  },
  {
   "cell_type": "markdown",
   "id": "7b8d6e73",
   "metadata": {},
   "source": [
    "Worst case:\n",
    "\n",
    "Need to scan the entire sequence seq\n",
    "Time proportional to length of sequence\n",
    "Does not matter if seq is array or list"
   ]
  },
  {
   "cell_type": "markdown",
   "id": "0905d307",
   "metadata": {},
   "source": [
    "# Search a sorted sequence\n",
    "\n",
    "What if seq is sorted?\n",
    "\n",
    "1. Compare v with midpoint of seq\n",
    "2. If midpoint is v, the value is found\n",
    "3. If v < midpoint, search left half of seq\n",
    "4. If v > midpoint, search right half of seq\n",
    "\n",
    "# Binary search"
   ]
  },
  {
   "cell_type": "code",
   "execution_count": 2,
   "id": "2a5d1709",
   "metadata": {},
   "outputs": [
    {
     "name": "stdout",
     "output_type": "stream",
     "text": [
      "True\n"
     ]
    }
   ],
   "source": [
    "def bsearch(seq,v,l,r):\n",
    "    if r-l ==0:\n",
    "        return False\n",
    "    mid = (l+r)//2\n",
    "    if seq[mid] == v:\n",
    "        return True \n",
    "    if v < seq[mid]:\n",
    "        return bsearch(seq,v,l,mid) \n",
    "    else:       \n",
    "        return bsearch(seq,v,mid+1,r)\n",
    "    \n",
    "print(bsearch([1,2,3,4,5,6,7,8,9],9,0,9))"
   ]
  },
  {
   "cell_type": "markdown",
   "id": "67476c3e",
   "metadata": {},
   "source": [
    "# How long does this take?\n",
    "\n",
    "Each step halves the interval to search. For an interval of size 0, the answer is immediate\n",
    "\n",
    "T(n): time to search in an array of size n\n",
    "T(0) = 1\n",
    "T(n) = 1 + T(n/2)\n",
    "\n",
    "Unwind the recurrence\n",
    "\n",
    "T(n) = 1 + T(n/2) = 1 + 1 + T(n/22) = ...\n",
    "= 1 + 1 + ... + 1 + T(n/2k)\n",
    "= 1 + 1 + ... + 1 + T(n/2log n) = O(log n)"
   ]
  },
  {
   "cell_type": "markdown",
   "id": "8dbb6a6c",
   "metadata": {},
   "source": [
    "Efficiency:\n",
    "\n",
    "Measure time taken by an algorithm as a function\n",
    "T(n) with respect to input size n\n",
    "\n",
    "Usually report worst case behaviour\n",
    "\n",
    "Worst case for searching in a sequence is when\n",
    "value is not found\n",
    "\n",
    "Worst case is easier to calculate than “average”\n",
    "case or other more reasonable measures"
   ]
  },
  {
   "cell_type": "markdown",
   "id": "79687d51",
   "metadata": {},
   "source": [
    "O( ) notation\n",
    "\n",
    "Interested in broad relationship between input size\n",
    "and running time\n",
    "\n",
    "Is T(n) proportional to log n, n, n log n, n2, ..., 2n?\n",
    "\n",
    "Write T(n) = O(n), T(n) = O(n log n), ... to indicate this\n",
    "\n",
    "Linear scan is O(n) for arrays and lists\n",
    "\n",
    "Binary search is O(log n) for sorted arrays"
   ]
  },
  {
   "cell_type": "markdown",
   "id": "1dc8ad7a",
   "metadata": {},
   "source": [
    "How to sort?\n",
    "\n",
    "You are a Teaching Assistant for a course\n",
    "\n",
    "The instructor gives you a stack of exam answer papers with marks, ordered randomly. Your task is to arrange them in descending order\n",
    "\n"
   ]
  },
  {
   "cell_type": "markdown",
   "id": "38a05000",
   "metadata": {},
   "source": [
    "Strategy 1\n",
    "\n",
    "1. Scan the entire stack and find the paper with minimum marks.\n",
    "2. Move this paper to a new stack\n",
    "3. Repeat with remaining papers\n",
    "4. Each time, add next minimum mark paper on top of new stack\n",
    "5. Eventually, new stack is sorted in descending order"
   ]
  },
  {
   "cell_type": "markdown",
   "id": "1d34e0a1",
   "metadata": {},
   "source": [
    "# Selection Sort\n",
    "\n",
    "Select the next element in sorted order\n",
    "Move it into its correct place in the final sorted list\n",
    "\n",
    "Avoid using a second list:\n",
    "Swap minimum element with value in first position.\n",
    "Swap second minimum element to second position."
   ]
  },
  {
   "cell_type": "code",
   "execution_count": 4,
   "id": "d13c8fe7",
   "metadata": {},
   "outputs": [
    {
     "name": "stdout",
     "output_type": "stream",
     "text": [
      "[1, 2, 3, 4, 5, 6, 7, 8]\n"
     ]
    }
   ],
   "source": [
    "def SelectionSort(seq):\n",
    "    for start in range(len(seq)):\n",
    "        minpos = start\n",
    "        for i in range(start+1,len(seq)):\n",
    "            if seq[i] < seq[minpos]:\n",
    "                minpos = i\n",
    "        seq[start],seq[minpos] = seq[minpos],seq[start]\n",
    "\n",
    "seq = [5,3,8,6,2,7,4,1]\n",
    "SelectionSort(seq)\n",
    "print(seq)"
   ]
  },
  {
   "cell_type": "markdown",
   "id": "e845bffe",
   "metadata": {},
   "source": [
    "Analysis of Selection Sort\n",
    "\n",
    "Finding minimum in unsorted segment of length k\n",
    "requires one scan, k steps\n",
    "\n",
    "In each iteration, segment to be scanned reduces\n",
    "by 1\n",
    "\n",
    "T(n) = n + (n-1) + (n-2) + ... + 1 = n(n+1)/2 = O(n2)"
   ]
  },
  {
   "cell_type": "markdown",
   "id": "c8981356",
   "metadata": {},
   "source": [
    "Strategy 2\n",
    "\n",
    "First paper: put in a new stack\n",
    "\n",
    "Second paper:\n",
    "\n",
    "Lower marks than first? Place below first paper\n",
    "Higher marks than first? Place above first paper\n",
    "\n",
    "Third paper\n",
    "\n",
    "Insert into the correct position with respect to first\n",
    "two papers\n",
    "\n",
    "Do this for each subsequent paper:\n",
    "insert into correct position in new sorted stack"
   ]
  },
  {
   "cell_type": "markdown",
   "id": "a681d5be",
   "metadata": {},
   "source": [
    "# Insertion Sort\n",
    "\n",
    "Start building a sorted sequence with one element\n",
    "\n",
    "Pick up next unsorted element and insert it into its\n",
    "correct place in the already sorted sequence"
   ]
  },
  {
   "cell_type": "code",
   "execution_count": null,
   "id": "259417a0",
   "metadata": {},
   "outputs": [
    {
     "name": "stdout",
     "output_type": "stream",
     "text": [
      "[1, 2, 3, 4, 5, 6, 7, 8]\n",
      "[15, 20, 25, 30, 35, 40, 45, 50, 55, 60, 65, 70, 75, 80, 85, 90, 95, 100, 105, 110, 115, 120, 125, 130, 135, 140, 145, 150, 155, 160, 165, 170, 175, 180, 185, 190, 195, 200, 205, 210, 215, 220, 225, 230, 235, 240, 245, 250, 255, 260, 265, 270, 275, 280, 285, 290, 295, 300, 305, 310, 315, 320, 325, 330, 335, 340, 345, 350, 355, 360, 365, 370, 375, 380, 385, 390, 395, 400, 405, 410, 415, 420, 425, 430, 435, 440, 445, 450, 455, 460, 465, 470, 475, 480, 485, 490, 495, 500, 505, 510, 515, 520, 525, 530, 535, 540, 545, 550, 555, 560, 565, 570, 575, 580, 585, 590, 595, 600, 605, 610, 615, 620, 625, 630, 635, 640, 645, 650, 655, 660, 665, 670, 675, 680, 685, 690, 695, 700, 705, 710, 715, 720, 725, 730, 735, 740, 745, 750, 755, 760, 765, 770, 775, 780, 785, 790, 795, 800, 805, 810, 815, 820, 825, 830, 835, 840, 845, 850, 855, 860, 865, 870, 875, 880, 885, 890, 895, 900, 905, 910, 915, 920, 925, 930, 935, 940, 945, 950, 955, 960, 965, 970, 975, 980, 985, 990, 995, 1000]\n"
     ]
    }
   ],
   "source": [
    "def InsertionSort(seq):\n",
    "    for sliceEnd in range(len(seq)):\n",
    "        pos = sliceEnd\n",
    "        while pos > 0 and seq[pos] < seq[pos-1]:\n",
    "            (seq[pos],seq[pos-1]) = (seq[pos-1],seq[pos])\n",
    "            pos = pos-1\n",
    "\n",
    "seq = [5,3,8,6,2,7,4,1]\n",
    "InsertionSort(seq)\n",
    "print(seq)\n",
    "list1 = list(range(1000,10,-5))\n",
    "print(\"original\",list1)\n",
    "InsertionSort(list1)\n",
    "print(\"sorted list:\",list1)\n"
   ]
  },
  {
   "cell_type": "markdown",
   "id": "046696d8",
   "metadata": {},
   "source": [
    "Analysis of Insertion Sort\n",
    "\n",
    "Inserting a new value in sorted segment of length\n",
    "k requires upto k steps in the worst case\n",
    "\n",
    "In each iteration, sorted segment in which to insert\n",
    "increased by 1\n",
    "\n",
    "T(n) = 1 + 2 + ... + n-1 = n(n-1)/2 = O(n**2)"
   ]
  }
 ],
 "metadata": {
  "kernelspec": {
   "display_name": "Python 3",
   "language": "python",
   "name": "python3"
  },
  "language_info": {
   "codemirror_mode": {
    "name": "ipython",
    "version": 3
   },
   "file_extension": ".py",
   "mimetype": "text/x-python",
   "name": "python",
   "nbconvert_exporter": "python",
   "pygments_lexer": "ipython3",
   "version": "3.12.3"
  }
 },
 "nbformat": 4,
 "nbformat_minor": 5
}
