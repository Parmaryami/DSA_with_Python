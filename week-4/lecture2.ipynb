{
 "cells": [
  {
   "cell_type": "markdown",
   "id": "17f60029",
   "metadata": {},
   "source": [
    "Tuples:\n",
    "\n",
    "Simultaneous Assignments"
   ]
  },
  {
   "cell_type": "code",
   "execution_count": 1,
   "id": "af115ed8",
   "metadata": {},
   "outputs": [
    {
     "name": "stdout",
     "output_type": "stream",
     "text": [
      "21\n",
      "Alice\n",
      "[2, 3, 5]\n"
     ]
    }
   ],
   "source": [
    "(age, name, primes) = (21, \"Alice\", [2,3,5]) \n",
    "print(age)   # 21\n",
    "print(name)  # Alice\n",
    "print(primes) # [2, 3, 5]"
   ]
  },
  {
   "cell_type": "markdown",
   "id": "8510fe55",
   "metadata": {},
   "source": [
    "Can Assign a \"tuple\" of value to a name "
   ]
  },
  {
   "cell_type": "code",
   "execution_count": 2,
   "id": "13d8d70b",
   "metadata": {},
   "outputs": [
    {
     "name": "stdout",
     "output_type": "stream",
     "text": [
      "3.2\n",
      "10\n"
     ]
    }
   ],
   "source": [
    "point = (3.2, 4.8)\n",
    "date =(2, 10, 2025)\n",
    "\n",
    "# Extracting position slices\n",
    "\n",
    "xCoordinate = point[0]\n",
    "month = date[1]\n",
    "print(xCoordinate) # 3.2\n",
    "print(month)       # 10"
   ]
  },
  {
   "cell_type": "markdown",
   "id": "47f880ca",
   "metadata": {},
   "source": [
    "#  Tuples are immutable "
   ]
  },
  {
   "cell_type": "code",
   "execution_count": 4,
   "id": "fdd5d16a",
   "metadata": {},
   "outputs": [
    {
     "ename": "TypeError",
     "evalue": "'tuple' object does not support item assignment",
     "output_type": "error",
     "traceback": [
      "\u001b[31m---------------------------------------------------------------------------\u001b[39m",
      "\u001b[31mTypeError\u001b[39m                                 Traceback (most recent call last)",
      "\u001b[36mCell\u001b[39m\u001b[36m \u001b[39m\u001b[32mIn[4]\u001b[39m\u001b[32m, line 2\u001b[39m\n\u001b[32m      1\u001b[39m date =(\u001b[32m2\u001b[39m, \u001b[32m10\u001b[39m, \u001b[32m2025\u001b[39m)\n\u001b[32m----> \u001b[39m\u001b[32m2\u001b[39m \u001b[43mdate\u001b[49m\u001b[43m[\u001b[49m\u001b[32;43m1\u001b[39;49m\u001b[43m]\u001b[49m = \u001b[32m8\u001b[39m\n",
      "\u001b[31mTypeError\u001b[39m: 'tuple' object does not support item assignment"
     ]
    }
   ],
   "source": [
    "date =(2, 10, 2025)\n",
    "date[1] = 8"
   ]
  },
  {
   "cell_type": "markdown",
   "id": "4f1d8972",
   "metadata": {},
   "source": [
    "# Dictionaries\n",
    "\n",
    "* Allow keys other than range(0,n)\n",
    "\n",
    "* Key could be a string\n",
    "    test1[\"Dhawan\"] = 84\n",
    "    test1[\"Pujara\"] = 16\n",
    "    test1[\"Kohli\"] = 200\n",
    "\n",
    "* Python dictionary\n",
    "    Any immutable value can be a key\n",
    "    Can update dictionaries in place —mutable, like lists"
   ]
  },
  {
   "cell_type": "markdown",
   "id": "3cf7d00e",
   "metadata": {},
   "source": [
    "# Dictionaries\n",
    "\n",
    "* Empty dictionary is {}, not []\n",
    "    * Initialization: test1 = {}\n",
    "\n",
    "(Note: test1 = [] is empty list, test1 = () is empty tuple)\n",
    "\n",
    "* Keys can be any immutable values\n",
    "    * int, float, bool, string, tuple\n",
    "    * But not lists, or dictionaries"
   ]
  },
  {
   "cell_type": "code",
   "execution_count": 6,
   "id": "5ad69243",
   "metadata": {},
   "outputs": [
    {
     "name": "stdout",
     "output_type": "stream",
     "text": [
      "{'Test1': {'Dhawan': 84, 'Kohli': 200}, 'Test2': {'Dhawan': 27}}\n"
     ]
    }
   ],
   "source": [
    "#Can nest dictionaries\n",
    "\n",
    "\n",
    "score = {\"Dhawan\":84, \"Kohli\":200}\n",
    "score = {\"Test1\":{\"Dhawan\":84,\n",
    "\"Kohli\":200}, \"Test2\":{\"Dhawan\":50}}\n",
    "\n",
    "score[\"Test1\"][\"Dhawan\"] = 84\n",
    "score[\"Test1\"][\"Kohli\"] = 200\n",
    "score[\"Test2\"][\"Dhawan\"] = 27\n",
    "\n",
    "#Directly assign values to a dictionary\n",
    "\n",
    "\n",
    "print(score)"
   ]
  },
  {
   "cell_type": "markdown",
   "id": "cba3ac1e",
   "metadata": {},
   "source": [
    "# Operating on dictionaries\n",
    "\n",
    "1. d.keys(): returns sequence of keys of dictionary d\n",
    "2. d.values(): return sequence of values in d\n",
    "3. d.items(): return list of tuple(key, value)"
   ]
  },
  {
   "cell_type": "code",
   "execution_count": 15,
   "id": "08f95691",
   "metadata": {},
   "outputs": [
    {
     "name": "stdout",
     "output_type": "stream",
     "text": [
      "a b c \n",
      "a b c \n",
      "6\n",
      "yes\n"
     ]
    }
   ],
   "source": [
    "d = {\"a\":1, \"b\":2, \"c\":3}\n",
    "# Get all keys\n",
    "for k in d.keys():\n",
    "    print(k, end=' ')\n",
    "    # Process d[k]\n",
    "print()\n",
    "# d.keys() is not in any predictable order\n",
    "\n",
    "for k in sorted(d.keys()):\n",
    "    print(k, end=' ')\n",
    "    # Process d[k]\n",
    "print()\n",
    "\n",
    "total = 0\n",
    "for s in d.values():\n",
    "    total = total + s\n",
    "print(total)\n",
    "\n",
    "# Test for key using in, like list membership\n",
    "if \"a\" in d:\n",
    "    print(\"yes\")\n"
   ]
  },
  {
   "cell_type": "code",
   "execution_count": 16,
   "id": "95e0fad6",
   "metadata": {},
   "outputs": [
    {
     "ename": "IndexError",
     "evalue": "list assignment index out of range",
     "output_type": "error",
     "traceback": [
      "\u001b[31m---------------------------------------------------------------------------\u001b[39m",
      "\u001b[31mIndexError\u001b[39m                                Traceback (most recent call last)",
      "\u001b[36mCell\u001b[39m\u001b[36m \u001b[39m\u001b[32mIn[16]\u001b[39m\u001b[32m, line 9\u001b[39m\n\u001b[32m      6\u001b[39m \u001b[38;5;66;03m# ... unlike a list\u001b[39;00m\n\u001b[32m      8\u001b[39m l = []\n\u001b[32m----> \u001b[39m\u001b[32m9\u001b[39m \u001b[43ml\u001b[49m\u001b[43m[\u001b[49m\u001b[32;43m0\u001b[39;49m\u001b[43m]\u001b[49m = \u001b[32m7\u001b[39m \u001b[38;5;66;03m# IndexError!\u001b[39;00m\n",
      "\u001b[31mIndexError\u001b[39m: list assignment index out of range"
     ]
    }
   ],
   "source": [
    "#Assigning to an unknown key inserts an entry\n",
    "\n",
    "d = {}\n",
    "d[0] = 7 # No problem, d == {0:7}\n",
    "\n",
    "# ... unlike a list\n",
    "\n",
    "l = []\n",
    "l[0] = 7 # IndexError!"
   ]
  },
  {
   "cell_type": "markdown",
   "id": "529191c3",
   "metadata": {},
   "source": [
    "# Summary\n",
    "\n",
    "* Dictionaries allow a flexible association of values to keys\n",
    "    * Keys must be immutable values\n",
    "\n",
    "* Structure of dictionary is internally optimized for key-based lookup\n",
    "\n",
    "* Use sorted(d.keys()) to retrieve keys in predictable order\n",
    "\n",
    "* Extremely useful for manipulating information from\n",
    "text files, tables ... — use column headings as keys"
   ]
  },
  {
   "cell_type": "markdown",
   "id": "b4df37a2",
   "metadata": {},
   "source": [
    "# Default arguments\n",
    "\n",
    "def int(s,b=10):\n",
    "\n",
    ". . .\n",
    "\n",
    "* Default value is provided in function definition\n",
    "\n",
    "* If parameter is omitted, default value is used\n",
    "    * Default value must be available at definition time\n",
    "    * def Quicksort(A,l=0,r=len(A)): does not work"
   ]
  },
  {
   "cell_type": "code",
   "execution_count": 17,
   "id": "cb10cdbd",
   "metadata": {},
   "outputs": [
    {
     "name": "stdout",
     "output_type": "stream",
     "text": [
      "6\n",
      "8\n",
      "10\n",
      "9\n",
      "11\n",
      "9\n"
     ]
    }
   ],
   "source": [
    "def f(a, b=2, c=3):\n",
    "    return a + b + c\n",
    "\n",
    "print(f(1))       # 6\n",
    "print(f(1, 4))    # 8           \n",
    "print(f(1, 4, 5)) # 10\n",
    "print(f(1, c=6))  # 9\n",
    "print(f(1, c=6, b=4)) # 11\n",
    "print(f(c=6, a=1)) # 10"
   ]
  },
  {
   "cell_type": "markdown",
   "id": "ac331652",
   "metadata": {},
   "source": [
    "# Can pass functions\n",
    "\n",
    "* Apply function to n times: Useful for customizing functions such as sort\n",
    "\n",
    "* Define cmp(x,y) that returns -1 if x < y, 0 if x == y and 1 if x > y\n",
    "    * cmp(\"aab\", \"ab\") is -1 in dictionary order\n",
    "    * cmp(\"aab\",\"ab”) is 1 if we compare by length\n",
    "\n",
    "* def sortfunction(l, cmpfn = defaultcmpfn):"
   ]
  },
  {
   "cell_type": "code",
   "execution_count": null,
   "id": "eb50d4af",
   "metadata": {},
   "outputs": [
    {
     "name": "stdout",
     "output_type": "stream",
     "text": [
      "625 625\n"
     ]
    }
   ],
   "source": [
    "def apply(f,x,n):\n",
    "    for i in range(n):\n",
    "        x = f(x)\n",
    "    return x\n",
    "\n",
    "def square(x):\n",
    "    return x*x\n",
    "\n",
    "r1 = apply(square, 5, 2) # 256\n",
    "r2 = square(square(5)) # 625\n",
    "print(r1, r2)\n"
   ]
  },
  {
   "cell_type": "markdown",
   "id": "54273e14",
   "metadata": {},
   "source": [
    "# Operating on lists\n",
    "\n",
    "* Update an entire list\n",
    "    for x in l:\n",
    "        x = f(x)\n",
    "\n",
    "* Define a function to do this in general\n",
    "    def applylist(f,l):\n",
    "        for x in l:\n",
    "            x = f(x)"
   ]
  },
  {
   "cell_type": "markdown",
   "id": "1e8510cc",
   "metadata": {},
   "source": [
    "# Built in function map()\n",
    "\n",
    "* map(f,l) applies f to each element of l\n",
    "\n",
    "* Output of map(f,l) is not a list!\n",
    "    * Use list(map(f,l)) to get a list\n",
    "    * Can be used directly in a for loop\n",
    "        for i in map(f,l):\n",
    "\n",
    "* Like range(i,j), d.keys()"
   ]
  },
  {
   "cell_type": "markdown",
   "id": "c1102390",
   "metadata": {},
   "source": [
    "# Selecting a sublist\n",
    "\n",
    "Extract list of primes from list numberlist"
   ]
  },
  {
   "cell_type": "code",
   "execution_count": 19,
   "id": "0fca1eb2",
   "metadata": {},
   "outputs": [
    {
     "name": "stdout",
     "output_type": "stream",
     "text": [
      "[3, 5, 7, 19, 11]\n",
      "[3, 5, 7, 19, 11]\n",
      "[12, 4]\n"
     ]
    }
   ],
   "source": [
    "numberlist = [12, 3, 5, 7, 19, 27, 11, 4]\n",
    "def isprime(n):\n",
    "    if n < 2:\n",
    "        return False\n",
    "    for i in range(2, int(n**0.5) + 1):\n",
    "        if n % i == 0:\n",
    "            return False\n",
    "    return True\n",
    "\n",
    "def primeList(n):\n",
    "    primelist = []\n",
    "    for i in numberlist:\n",
    "        if isprime(i):\n",
    "            primelist.append(i)\n",
    "    return(primelist)\n",
    "\n",
    "def select(property,l): # property is a function\n",
    "    sublist = []\n",
    "    for x in l:\n",
    "        if property(x):\n",
    "            sublist.append(x)\n",
    "    return(sublist)\n",
    "\n",
    "print(primeList(numberlist)) # [3, 5, 7, 19, 11]\n",
    "print(select(isprime, numberlist)) # [3, 5, 7, 19, 11]\n",
    "print(select(lambda x: x % 2 == 0, numberlist)) # [12, 4]"
   ]
  },
  {
   "cell_type": "markdown",
   "id": "a7194af0",
   "metadata": {},
   "source": [
    "# Built in function filter()\n",
    "\n",
    "* filter(p,l) checks p for each element of l\n",
    "\n",
    "* Output is sublist of values that satisfy p"
   ]
  },
  {
   "cell_type": "markdown",
   "id": "15754550",
   "metadata": {},
   "source": [
    "# Combining map and filter\n",
    "\n",
    "Squares of even numbers from 0 to 99"
   ]
  },
  {
   "cell_type": "code",
   "execution_count": 20,
   "id": "acb57a7a",
   "metadata": {},
   "outputs": [
    {
     "name": "stdout",
     "output_type": "stream",
     "text": [
      "[0, 4, 16, 36, 64, 100, 144, 196, 256, 324, 400, 484, 576, 676, 784, 900, 1024, 1156, 1296, 1444, 1600, 1764, 1936, 2116, 2304, 2500, 2704, 2916, 3136, 3364, 3600, 3844, 4096, 4356, 4624, 4900, 5184, 5476, 5776, 6084, 6400, 6724, 7056, 7396, 7744, 8100, 8464, 8836, 9216, 9604]\n"
     ]
    }
   ],
   "source": [
    "\n",
    "def square(x):\n",
    "    return(x*x)\n",
    "\n",
    "def iseven(x):\n",
    "    return(x%2 == 0)\n",
    "\n",
    "print(list(map(square,filter(iseven,range(100))))) # [0, 4, 16, 36, 64, 100,"
   ]
  },
  {
   "cell_type": "markdown",
   "id": "87e29281",
   "metadata": {},
   "source": [
    "# List comprehension\n",
    "\n",
    "Squares of even numbers below 100"
   ]
  },
  {
   "cell_type": "code",
   "execution_count": null,
   "id": "f9b2be3f",
   "metadata": {},
   "outputs": [
    {
     "name": "stdout",
     "output_type": "stream",
     "text": [
      "[0, 4, 16, 36, 64, 100, 144, 196, 256, 324, 400, 484, 576, 676, 784, 900, 1024, 1156, 1296, 1444, 1600, 1764, 1936, 2116, 2304, 2500, 2704, 2916, 3136, 3364, 3600, 3844, 4096, 4356, 4624, 4900, 5184, 5476, 5776, 6084, 6400, 6724, 7056, 7396, 7744, 8100, 8464, 8836, 9216, 9604]\n"
     ]
    }
   ],
   "source": [
    "def iseven(x):\n",
    "    return(x%2 == 0)\n",
    "r1 = [square(i) for i in range(100) if iseven(i)]\n",
    "print(r1) "
   ]
  },
  {
   "cell_type": "code",
   "execution_count": 23,
   "id": "e459b015",
   "metadata": {},
   "outputs": [
    {
     "name": "stdout",
     "output_type": "stream",
     "text": [
      "[(0, 0, 0), (0, 1, 1), (0, 2, 2), (0, 3, 3), (0, 4, 4), (0, 5, 5), (0, 6, 6), (0, 7, 7), (0, 8, 8), (0, 9, 9), (0, 10, 10), (0, 11, 11), (0, 12, 12), (0, 13, 13), (0, 14, 14), (0, 15, 15), (0, 16, 16), (0, 17, 17), (0, 18, 18), (0, 19, 19), (0, 20, 20), (0, 21, 21), (0, 22, 22), (0, 23, 23), (0, 24, 24), (0, 25, 25), (0, 26, 26), (0, 27, 27), (0, 28, 28), (0, 29, 29), (0, 30, 30), (0, 31, 31), (0, 32, 32), (0, 33, 33), (0, 34, 34), (0, 35, 35), (0, 36, 36), (0, 37, 37), (0, 38, 38), (0, 39, 39), (0, 40, 40), (0, 41, 41), (0, 42, 42), (0, 43, 43), (0, 44, 44), (0, 45, 45), (0, 46, 46), (0, 47, 47), (0, 48, 48), (0, 49, 49), (0, 50, 50), (0, 51, 51), (0, 52, 52), (0, 53, 53), (0, 54, 54), (0, 55, 55), (0, 56, 56), (0, 57, 57), (0, 58, 58), (0, 59, 59), (0, 60, 60), (0, 61, 61), (0, 62, 62), (0, 63, 63), (0, 64, 64), (0, 65, 65), (0, 66, 66), (0, 67, 67), (0, 68, 68), (0, 69, 69), (0, 70, 70), (0, 71, 71), (0, 72, 72), (0, 73, 73), (0, 74, 74), (0, 75, 75), (0, 76, 76), (0, 77, 77), (0, 78, 78), (0, 79, 79), (0, 80, 80), (0, 81, 81), (0, 82, 82), (0, 83, 83), (0, 84, 84), (0, 85, 85), (0, 86, 86), (0, 87, 87), (0, 88, 88), (0, 89, 89), (0, 90, 90), (0, 91, 91), (0, 92, 92), (0, 93, 93), (0, 94, 94), (0, 95, 95), (0, 96, 96), (0, 97, 97), (0, 98, 98), (0, 99, 99), (1, 0, 1), (2, 0, 2), (3, 0, 3), (3, 4, 5), (4, 0, 4), (4, 3, 5), (5, 0, 5), (5, 12, 13), (6, 0, 6), (6, 8, 10), (7, 0, 7), (7, 24, 25), (8, 0, 8), (8, 6, 10), (8, 15, 17), (9, 0, 9), (9, 12, 15), (9, 40, 41), (10, 0, 10), (10, 24, 26), (11, 0, 11), (11, 60, 61), (12, 0, 12), (12, 5, 13), (12, 9, 15), (12, 16, 20), (12, 35, 37), (13, 0, 13), (13, 84, 85), (14, 0, 14), (14, 48, 50), (15, 0, 15), (15, 8, 17), (15, 20, 25), (15, 36, 39), (16, 0, 16), (16, 12, 20), (16, 30, 34), (16, 63, 65), (17, 0, 17), (18, 0, 18), (18, 24, 30), (18, 80, 82), (19, 0, 19), (20, 0, 20), (20, 15, 25), (20, 21, 29), (20, 48, 52), (21, 0, 21), (21, 20, 29), (21, 28, 35), (21, 72, 75), (22, 0, 22), (23, 0, 23), (24, 0, 24), (24, 7, 25), (24, 10, 26), (24, 18, 30), (24, 32, 40), (24, 45, 51), (24, 70, 74), (25, 0, 25), (25, 60, 65), (26, 0, 26), (27, 0, 27), (27, 36, 45), (28, 0, 28), (28, 21, 35), (28, 45, 53), (29, 0, 29), (30, 0, 30), (30, 16, 34), (30, 40, 50), (30, 72, 78), (31, 0, 31), (32, 0, 32), (32, 24, 40), (32, 60, 68), (33, 0, 33), (33, 44, 55), (33, 56, 65), (34, 0, 34), (35, 0, 35), (35, 12, 37), (35, 84, 91), (36, 0, 36), (36, 15, 39), (36, 27, 45), (36, 48, 60), (36, 77, 85), (37, 0, 37), (38, 0, 38), (39, 0, 39), (39, 52, 65), (39, 80, 89), (40, 0, 40), (40, 9, 41), (40, 30, 50), (40, 42, 58), (40, 75, 85), (41, 0, 41), (42, 0, 42), (42, 40, 58), (42, 56, 70), (43, 0, 43), (44, 0, 44), (44, 33, 55), (45, 0, 45), (45, 24, 51), (45, 28, 53), (45, 60, 75), (46, 0, 46), (47, 0, 47), (48, 0, 48), (48, 14, 50), (48, 20, 52), (48, 36, 60), (48, 55, 73), (48, 64, 80), (49, 0, 49), (50, 0, 50), (51, 0, 51), (51, 68, 85), (52, 0, 52), (52, 39, 65), (53, 0, 53), (54, 0, 54), (54, 72, 90), (55, 0, 55), (55, 48, 73), (56, 0, 56), (56, 33, 65), (56, 42, 70), (57, 0, 57), (57, 76, 95), (58, 0, 58), (59, 0, 59), (60, 0, 60), (60, 11, 61), (60, 25, 65), (60, 32, 68), (60, 45, 75), (60, 63, 87), (61, 0, 61), (62, 0, 62), (63, 0, 63), (63, 16, 65), (63, 60, 87), (64, 0, 64), (64, 48, 80), (65, 0, 65), (65, 72, 97), (66, 0, 66), (67, 0, 67), (68, 0, 68), (68, 51, 85), (69, 0, 69), (70, 0, 70), (70, 24, 74), (71, 0, 71), (72, 0, 72), (72, 21, 75), (72, 30, 78), (72, 54, 90), (72, 65, 97), (73, 0, 73), (74, 0, 74), (75, 0, 75), (75, 40, 85), (76, 0, 76), (76, 57, 95), (77, 0, 77), (77, 36, 85), (78, 0, 78), (79, 0, 79), (80, 0, 80), (80, 18, 82), (80, 39, 89), (81, 0, 81), (82, 0, 82), (83, 0, 83), (84, 0, 84), (84, 13, 85), (84, 35, 91), (85, 0, 85), (86, 0, 86), (87, 0, 87), (88, 0, 88), (89, 0, 89), (90, 0, 90), (91, 0, 91), (92, 0, 92), (93, 0, 93), (94, 0, 94), (95, 0, 95), (96, 0, 96), (97, 0, 97), (98, 0, 98), (99, 0, 99)]\n"
     ]
    }
   ],
   "source": [
    "ans = [(x,y,z) for x in range(100)\n",
    "for y in range(100)\n",
    "for z in range(100)\n",
    "if x*x + y*y == z*z]\n",
    "\n",
    "print(ans)"
   ]
  },
  {
   "cell_type": "markdown",
   "id": "2d481633",
   "metadata": {},
   "source": [
    "# Useful for initialising lists\n",
    "\n",
    "Initialise a 4 x 3 matrix, where 4 rows, 3 columns. Stored row-wise"
   ]
  },
  {
   "cell_type": "code",
   "execution_count": 24,
   "id": "1297ff04",
   "metadata": {},
   "outputs": [
    {
     "name": "stdout",
     "output_type": "stream",
     "text": [
      "[[0, 0, 0], [0, 0, 0], [0, 0, 0], [0, 0, 0]]\n"
     ]
    }
   ],
   "source": [
    "\n",
    "l = [ [ 0 for i in range(3) ]\n",
    "for j in range(4)]\n",
    "print(l)"
   ]
  },
  {
   "cell_type": "markdown",
   "id": "95ea6540",
   "metadata": {},
   "source": [
    "# Summary\n",
    "\n",
    "* map and filter are useful functions to manipulate\n",
    "lists\n",
    "\n",
    "* List comprehension provides a useful notation for\n",
    "combining map and filter"
   ]
  }
 ],
 "metadata": {
  "kernelspec": {
   "display_name": "Python 3",
   "language": "python",
   "name": "python3"
  },
  "language_info": {
   "codemirror_mode": {
    "name": "ipython",
    "version": 3
   },
   "file_extension": ".py",
   "mimetype": "text/x-python",
   "name": "python",
   "nbconvert_exporter": "python",
   "pygments_lexer": "ipython3",
   "version": "3.12.3"
  }
 },
 "nbformat": 4,
 "nbformat_minor": 5
}
