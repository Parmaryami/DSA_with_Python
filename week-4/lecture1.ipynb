{
 "cells": [
  {
   "cell_type": "markdown",
   "id": "e942419f",
   "metadata": {},
   "source": [
    "O(n2) Sorting Algorithm:\n",
    "\n",
    "Selection sort and insertion sort are both O(n2)"
   ]
  },
  {
   "cell_type": "markdown",
   "id": "f2d69fd2",
   "metadata": {},
   "source": [
    "A different Strategy ?\n",
    "\n",
    "* Divide array in two equal parts\n",
    "* Separately sort left and right half\n",
    "* Combine the two sorted halves to get the full array sorted "
   ]
  },
  {
   "cell_type": "markdown",
   "id": "9e7002db",
   "metadata": {},
   "source": [
    "Combining sorted lists\n",
    "\n",
    "1. Given two sorted lists A and B, combine into a sorted list C\n",
    "2. Compare first element of A and B\n",
    "3. Move it into C\n",
    "4. Repeat until all elements in A and B are over\n",
    "5. Merging A and B"
   ]
  },
  {
   "cell_type": "markdown",
   "id": "15005016",
   "metadata": {},
   "source": [
    "Divide and conquer\n",
    "\n",
    "* Break up problem into disjoint parts\n",
    "* Solve each part separately\n",
    "* Combine the solutions efficiently"
   ]
  },
  {
   "cell_type": "markdown",
   "id": "b1a4c22c",
   "metadata": {},
   "source": [
    "Merging sorted lists\n",
    "\n",
    "Combine two sorted lists A and B into C\n",
    "\n",
    "If A is empty, copy B into C\n",
    "\n",
    "If B is empty, copy A into C\n",
    "\n",
    "Otherwise, compare first element of A and B and\n",
    "move the smaller of the two into C\n",
    "\n",
    "Repeat until all elements in A and B have been\n",
    "moved"
   ]
  },
  {
   "cell_type": "markdown",
   "id": "eed84025",
   "metadata": {},
   "source": [
    "Merge Sort\n",
    "\n",
    "To sort A[0:n] into B[0:n]\n",
    "\n",
    "If n is 1, nothing to be done Otherwise.\n",
    "\n",
    "Sort A[0:n//2] into L (left).\n",
    "\n",
    "Sort A[n//2:n] into R (right).\n",
    "\n",
    "Merge L and R into B."
   ]
  },
  {
   "cell_type": "code",
   "execution_count": 2,
   "id": "1d5b8898",
   "metadata": {},
   "outputs": [
    {
     "name": "stdout",
     "output_type": "stream",
     "text": [
      "[3, 9, 10, 27, 38, 43, 82]\n"
     ]
    }
   ],
   "source": [
    "def merge(A,B):\n",
    "    (C,m,n) = ([],len(A),len(B))\n",
    "    (i,j) = (0,0)\n",
    "    while i+j < m+n:\n",
    "        if i == m:\n",
    "            C.append(B[j])\n",
    "            j = j+1\n",
    "        elif j == n:\n",
    "            C.append(A[i])\n",
    "            i = i+1\n",
    "        elif A[i] < B[j]:\n",
    "            C.append(A[i])\n",
    "            i = i+1\n",
    "        else:\n",
    "            C.append(B[j])\n",
    "            j = j+1\n",
    "    return C\n",
    "def mergesort(A,left,right):\n",
    "    if right - left <= 1:\n",
    "        return A[left:right]\n",
    "    else:\n",
    "        mid = (left + right) // 2\n",
    "        L = mergesort(A,left,mid)\n",
    "        R = mergesort(A,mid,right)\n",
    "        return merge(L,R)\n",
    "    \n",
    "A = [38,27,43,3,9,82,10]\n",
    "B = mergesort(A,0,len(A))\n",
    "print(B)"
   ]
  },
  {
   "cell_type": "markdown",
   "id": "d79d33ab",
   "metadata": {},
   "source": [
    "Analysis of Merge Sort ...\n",
    "\n",
    "T(n): time taken by Merge Sort on input of size n.\n",
    "\n",
    "Assume, for simplicity, that n = 2k.\n",
    "\n",
    "T(n) = 2T(n/2) + n.\n",
    "\n",
    "Two subproblems of size n/2.\n",
    "\n",
    "Merging solutions requires time O(n/2+n/2) = O(n)."
   ]
  },
  {
   "cell_type": "markdown",
   "id": "dc26212a",
   "metadata": {},
   "source": [
    "Merge Sort: Shortcomings\n",
    "\n",
    "* Merging A and B creates a new array C\n",
    "* No obvious way to efficiently merge in place\n",
    "* Extra storage can be costly\n",
    "* Inherently recursive\n",
    "* Recursive call and return are expensive"
   ]
  },
  {
   "cell_type": "markdown",
   "id": "ed16b82a",
   "metadata": {},
   "source": [
    "Alternative option \n",
    "\n",
    "* Extra space is required to merge\n",
    "* Merging happens because elements in left half must move right and vice versa\n",
    "* Can we divide so that everything to the left is smaller than everything to the right?\n",
    "* No need to merge!"
   ]
  },
  {
   "cell_type": "markdown",
   "id": "3727a9fd",
   "metadata": {},
   "source": [
    "# Divide and conquer without merging\n",
    "\n",
    "* Suppose the median value in A is m\n",
    "\n",
    "* Move all values ≤ m to left half of A\n",
    "    * Right half has values > m\n",
    "    * This shifting can be done in place, in time O(n)\n",
    "\n",
    "* Recursively sort left and right halves\n",
    "\n",
    "* A is now sorted! No need to merge\n",
    "    * T(n) = 2T(n/2) + n = O(n log n)\n",
    "\n",
    "* How do we find the median?\n",
    "    * Sort and pick up middle element\n",
    "    * But our aim is to sort!\n",
    "\n",
    "* Instead, pick up some value in A — pivot\n",
    "    * Split A with respect to this pivot element"
   ]
  },
  {
   "cell_type": "markdown",
   "id": "3e378333",
   "metadata": {},
   "source": [
    "# Quicksort\n",
    "\n",
    "1. Choose a pivot element\n",
    "2. Typically the first value in the array\n",
    "3. Partition A into lower and upper parts with respect to pivot\n",
    "4. Move pivot between lower and upper partition\n",
    "5. Recursively sort the two partitions\n",
    "\n",
    "# In practice, Quicksort is very fast\n",
    "\n",
    "Typically the default algorithm for in-built sort\n",
    "functions.\n",
    "\n",
    "e,g: Spreadsheets, Built in sort function in programming languages"
   ]
  },
  {
   "cell_type": "code",
   "execution_count": 3,
   "id": "15faebe1",
   "metadata": {},
   "outputs": [
    {
     "name": "stdout",
     "output_type": "stream",
     "text": [
      "[3, 9, 10, 27, 38, 43, 82]\n"
     ]
    }
   ],
   "source": [
    "def QuickSort(a,l,r):\n",
    "    if r-l <= 1:\n",
    "        return ()\n",
    "    yellow = l+1\n",
    "\n",
    "    for green in range(l+1,r):\n",
    "        if a[green] < a[l]:\n",
    "            (a[green],a[yellow]) = (a[yellow],a[green])\n",
    "            yellow += 1\n",
    "\n",
    "    (a[l],a[yellow-1]) = (a[yellow-1],a[l])\n",
    "\n",
    "    QuickSort(a,l,yellow-1)\n",
    "    QuickSort(a,yellow,r)  \n",
    "A = [38,27,43,3,9,82,10]\n",
    "QuickSort(A,0,len(A))   \n",
    "print(A) "
   ]
  },
  {
   "cell_type": "markdown",
   "id": "2daabc86",
   "metadata": {},
   "source": [
    "# Analysis of Quicksort:\n",
    "\n",
    "Worst case\n",
    "\n",
    "* Pivot is either maximum or minimum\n",
    "    * One partition is empty\n",
    "    * Other has size n-1\n",
    "\n",
    "T(n) = T(n-1) + n = T(n-2) + (n-1) + n = ... = 1 + 2 + ... + n = O(n2)\n",
    "\n",
    "* Already sorted array is worst case input!\n",
    "\n",
    "* Average case is O(n log n)\n",
    "    * All permutations of n values, each equally likely\n",
    "    * Average running time across all permutations\n",
    "\n",
    "* Sorting is a rare example where average case can be computed"
   ]
  },
  {
   "cell_type": "markdown",
   "id": "0fe10ac7",
   "metadata": {},
   "source": [
    "# Stable sorting ...\n",
    "\n",
    "* Quicksort, as described, is not stable\n",
    "\n",
    "Swap operation during partitioning disturbs\n",
    "original order\n",
    "\n",
    "* Merge sort is stable if we merge carefully\n",
    "\n",
    "Do not allow elements from right to overtake\n",
    "elements from left\n",
    "\n"
   ]
  }
 ],
 "metadata": {
  "kernelspec": {
   "display_name": "Python 3",
   "language": "python",
   "name": "python3"
  },
  "language_info": {
   "codemirror_mode": {
    "name": "ipython",
    "version": 3
   },
   "file_extension": ".py",
   "mimetype": "text/x-python",
   "name": "python",
   "nbconvert_exporter": "python",
   "pygments_lexer": "ipython3",
   "version": "3.12.3"
  }
 },
 "nbformat": 4,
 "nbformat_minor": 5
}
