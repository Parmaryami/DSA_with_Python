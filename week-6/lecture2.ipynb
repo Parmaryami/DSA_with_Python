{
 "cells": [
  {
   "cell_type": "markdown",
   "id": "f7b8f7d7",
   "metadata": {},
   "source": [
    "# Global variables\n",
    "\n",
    "* Can we avoid passing board explicitly to each function?\n",
    "\n",
    "* Can we have a single global copy of board that all functions can update?"
   ]
  },
  {
   "cell_type": "markdown",
   "id": "23db3597",
   "metadata": {},
   "source": [
    "# Scope of name\n",
    "\n",
    "* Scope of name is the portion of code where it is available to read and update.\n",
    "\n",
    "* By default, in Python, scope is local to functions\n",
    "\n",
    "* But actually, only if we update the name inside the function"
   ]
  },
  {
   "cell_type": "code",
   "execution_count": null,
   "id": "308d9d65",
   "metadata": {},
   "outputs": [
    {
     "name": "stdout",
     "output_type": "stream",
     "text": [
      "7\n",
      "7\n"
     ]
    }
   ],
   "source": [
    "def f():\n",
    "    y = x\n",
    "    print(y)\n",
    "\n",
    "x = 7\n",
    "f()\n",
    "print(x) # fine, x is global"
   ]
  },
  {
   "cell_type": "code",
   "execution_count": null,
   "id": "ae3dc4b2",
   "metadata": {},
   "outputs": [
    {
     "ename": "UnboundLocalError",
     "evalue": "cannot access local variable 'x' where it is not associated with a value",
     "output_type": "error",
     "traceback": [
      "\u001b[31m---------------------------------------------------------------------------\u001b[39m",
      "\u001b[31mUnboundLocalError\u001b[39m                         Traceback (most recent call last)",
      "\u001b[36mCell\u001b[39m\u001b[36m \u001b[39m\u001b[32mIn[2]\u001b[39m\u001b[32m, line 7\u001b[39m\n\u001b[32m      4\u001b[39m     x = \u001b[32m22\u001b[39m\n\u001b[32m      6\u001b[39m x = \u001b[32m7\u001b[39m\n\u001b[32m----> \u001b[39m\u001b[32m7\u001b[39m \u001b[43mf\u001b[49m\u001b[43m(\u001b[49m\u001b[43m)\u001b[49m\n",
      "\u001b[36mCell\u001b[39m\u001b[36m \u001b[39m\u001b[32mIn[2]\u001b[39m\u001b[32m, line 2\u001b[39m, in \u001b[36mf\u001b[39m\u001b[34m()\u001b[39m\n\u001b[32m      1\u001b[39m \u001b[38;5;28;01mdef\u001b[39;00m\u001b[38;5;250m \u001b[39m\u001b[34mf\u001b[39m():\n\u001b[32m----> \u001b[39m\u001b[32m2\u001b[39m     y = \u001b[43mx\u001b[49m\n\u001b[32m      3\u001b[39m     \u001b[38;5;28mprint\u001b[39m(y)\n\u001b[32m      4\u001b[39m     x = \u001b[32m22\u001b[39m\n",
      "\u001b[31mUnboundLocalError\u001b[39m: cannot access local variable 'x' where it is not associated with a value"
     ]
    }
   ],
   "source": [
    "def f():\n",
    "    y = x\n",
    "    print(y)\n",
    "    x = 22\n",
    "\n",
    "x = 7\n",
    "f()   # Error, x is local but used before assignment\n"
   ]
  },
  {
   "cell_type": "markdown",
   "id": "15463561",
   "metadata": {},
   "source": [
    "If x is not found in f(), Python looks at enclosing\n",
    "function for global x\n",
    "\n",
    "If x is updated in f(), it becomes a local name!"
   ]
  },
  {
   "cell_type": "markdown",
   "id": "3d2f5310",
   "metadata": {},
   "source": [
    "* Actually, this applies only to immutable values.\n",
    "\n",
    "* Global names that point to mutable values can be\n",
    "updated within a function."
   ]
  },
  {
   "cell_type": "code",
   "execution_count": 4,
   "id": "29187331",
   "metadata": {},
   "outputs": [
    {
     "name": "stdout",
     "output_type": "stream",
     "text": [
      "7\n"
     ]
    }
   ],
   "source": [
    "def f():\n",
    "    y = x[0]\n",
    "    print(y)\n",
    "    x[0] = 22\n",
    "\n",
    "x = [7]\n",
    "f()   # fine, x is global\n"
   ]
  },
  {
   "cell_type": "markdown",
   "id": "19f96045",
   "metadata": {},
   "source": [
    "# Global immutable values\n",
    "\n",
    "* What if we want a global integer\n",
    "\n",
    "* Count the number of times a function\n",
    "is called.\n",
    "\n",
    "* Declare a name to be global."
   ]
  },
  {
   "cell_type": "code",
   "execution_count": 3,
   "id": "2ed14d76",
   "metadata": {},
   "outputs": [
    {
     "name": "stdout",
     "output_type": "stream",
     "text": [
      "7\n",
      "22\n"
     ]
    }
   ],
   "source": [
    "def f():\n",
    "    global x\n",
    "    y = x\n",
    "    print(y)\n",
    "    x = 22\n",
    "\n",
    "x = 7\n",
    "f()\n",
    "print(x)"
   ]
  },
  {
   "cell_type": "code",
   "execution_count": 5,
   "id": "49ce62e2",
   "metadata": {},
   "outputs": [
    {
     "name": "stdout",
     "output_type": "stream",
     "text": [
      "7\n",
      "22\n"
     ]
    }
   ],
   "source": [
    "def f():\n",
    "    global x\n",
    "    y = x\n",
    "    print(y)\n",
    "    x = 22\n",
    "\n",
    "x = 7\n",
    "f()\n",
    "print(x)"
   ]
  },
  {
   "cell_type": "markdown",
   "id": "85bb1284",
   "metadata": {},
   "source": [
    "# Nest function definitions\n",
    "\n",
    "Can define local\n",
    "“helper” functions\n",
    "\n",
    "g() and h() are only\n",
    "visible to f()\n",
    "\n",
    "Cannot be called\n",
    "directly from outside"
   ]
  },
  {
   "cell_type": "code",
   "execution_count": 6,
   "id": "069b3c64",
   "metadata": {},
   "outputs": [
    {
     "name": "stdout",
     "output_type": "stream",
     "text": [
      "22\n"
     ]
    }
   ],
   "source": [
    "def f():\n",
    "    def g(a):\n",
    "        return(a+1)\n",
    "\n",
    "    def h(b):\n",
    "        return(2*b)\n",
    "\n",
    "    global x\n",
    "    y = g(x) + h(x)\n",
    "    print(y)\n",
    "    x = 22\n",
    "\n",
    "x = 7\n",
    "f()"
   ]
  },
  {
   "cell_type": "markdown",
   "id": "1e25ed3c",
   "metadata": {},
   "source": [
    "# Nest function definitions\n",
    "\n",
    "* If we look up x, y inside g() or h() it will first look in f(), then outside.\n",
    "\n",
    "* Can also declare names global inside g(), h()\n",
    "\n",
    "* Intermediate scope declaration: nonlocal"
   ]
  },
  {
   "cell_type": "code",
   "execution_count": 7,
   "id": "5bf7d4b9",
   "metadata": {},
   "outputs": [
    {
     "name": "stdout",
     "output_type": "stream",
     "text": [
      "22\n"
     ]
    }
   ],
   "source": [
    "def f():\n",
    "    def g(a):\n",
    "        return(a+1)\n",
    "\n",
    "    def h(b):\n",
    "        return(2*b)\n",
    "\n",
    "    global x\n",
    "    y = g(x) + h(x)\n",
    "    print(y)\n",
    "    x = 22\n",
    "\n",
    "x = 7\n",
    "f()"
   ]
  },
  {
   "cell_type": "markdown",
   "id": "ef7d8b34",
   "metadata": {},
   "source": [
    "# Summary\n",
    "\n",
    "Python names are looked up inside-out from\n",
    "within functions\n",
    "\n",
    "Updating a name with immutable value creates a\n",
    "local copy of that name\n",
    "\n",
    "Can update global names with mutable values\n",
    "\n",
    "Use global definition to update immutable values\n",
    "\n",
    "Can nest helper function — hidden to the outside"
   ]
  },
  {
   "cell_type": "markdown",
   "id": "da60f2a3",
   "metadata": {},
   "source": [
    "# Generating permutations\n",
    "\n",
    "* Often useful when we need to try out all possibilities\n",
    "\n",
    "* Each potential columnwise placement of N queens is a permutation of {0,1,...,N-1}\n",
    "\n",
    "* Given a permutation, generate the next one\n",
    "\n",
    "* For instance, what is the next sequence formed from {a,b,...,m} , in dictionary order after\n",
    "\n",
    "    d c h b a e g l k o n m j i\n",
    "    "
   ]
  },
  {
   "cell_type": "markdown",
   "id": "42739603",
   "metadata": {},
   "source": [
    "# Smallest permutation — all elements in ascending order\n",
    "\n",
    "a b c d e f g h i j k l m\n",
    "\n",
    "# Largest permutation — all elements in descending order\n",
    "\n",
    "m l k j i h g f e d c b a\n",
    "\n",
    "* Next permutation — find shortest suffix that can be incremented\n",
    "\n",
    "* Or longest suffix that cannot be incremented"
   ]
  },
  {
   "cell_type": "markdown",
   "id": "86552ddc",
   "metadata": {},
   "source": [
    "# Next permutation\n",
    "\n",
    "* Longest suffix that cannot be incremented\n",
    "\n",
    "* Already in descending order\n",
    "\n",
    "d c h b a e g l k o n m j i\n",
    "\n",
    "* The suffix starting one position earlier can be incremented\n",
    "\n",
    "* Replace k by next largest letter to its right, m\n",
    "\n",
    "* Rearrage k o n j i in ascending order\n",
    "\n",
    "d c h b a e g l m i j k n o\n"
   ]
  },
  {
   "cell_type": "markdown",
   "id": "4479dcf9",
   "metadata": {},
   "source": [
    "# Implementation\n",
    "\n",
    "* From the right, identify first decreasing position\n",
    "\n",
    "d c h b a e g l k o n m j i\n",
    "\n",
    "* Swap that value with its next larger letter to its right\n",
    "\n",
    "d c h b a e g l m o n k j i\n",
    "\n",
    "* Finding next larger letter is similar to insert\n",
    "\n",
    "* Reverse the increasing suffix\n",
    "\n",
    "d c h b a e g l m i j k n o"
   ]
  },
  {
   "cell_type": "markdown",
   "id": "c4ca4975",
   "metadata": {},
   "source": [
    "# Data structures\n",
    "\n",
    "Algorithms + Data Structures = Programs\n",
    "Niklaus Wirth\n",
    "\n",
    "Arrays/lists — sequences of values\n",
    "\n",
    "Dictionaries — key-value pairs\n",
    "\n",
    "Python also has sets as a built in datatype\n",
    "\n",
    "# Sets in Python\n",
    "\n",
    "List with braces, duplicates automatically removed"
   ]
  },
  {
   "cell_type": "code",
   "execution_count": 8,
   "id": "e55e4eb0",
   "metadata": {},
   "outputs": [
    {
     "name": "stdout",
     "output_type": "stream",
     "text": [
      "{'green', 'red', 'blue'}\n",
      "set()\n"
     ]
    }
   ],
   "source": [
    "colores = {\"red\", \"green\", \"blue\"}\n",
    "print(colores)\n",
    "\n",
    "#create empty set \n",
    "colors   = set()\n",
    "\n",
    "print(colors)"
   ]
  },
  {
   "cell_type": "markdown",
   "id": "1fd68de8",
   "metadata": {},
   "source": [
    "Note, not colours = {} — empty dictionary!\n",
    "\n",
    "# sets membership "
   ]
  },
  {
   "cell_type": "code",
   "execution_count": 9,
   "id": "223211c5",
   "metadata": {},
   "outputs": [
    {
     "name": "stdout",
     "output_type": "stream",
     "text": [
      "False\n",
      "True\n"
     ]
    }
   ],
   "source": [
    "colores = {\"red\", \"green\", \"blue\"}\n",
    "\n",
    "print('black' in colores)  # False\n",
    "print('red' in colores)    # True"
   ]
  },
  {
   "cell_type": "markdown",
   "id": "44b44edb",
   "metadata": {},
   "source": [
    "# convert list into set"
   ]
  },
  {
   "cell_type": "code",
   "execution_count": 10,
   "id": "f0e70c76",
   "metadata": {},
   "outputs": [
    {
     "name": "stdout",
     "output_type": "stream",
     "text": [
      "{0, 1, 2, 3, 4, 5, 6, 7, 8, 9}\n",
      "<class 'set'>\n",
      "{'a', 'n', 'b'}\n"
     ]
    }
   ],
   "source": [
    "number  = set(list(range(10)))\n",
    "\n",
    "print(number)\n",
    "print(type(number))\n",
    "\n",
    "letters = set(\"bananna\")\n",
    "\n",
    "print(letters)"
   ]
  },
  {
   "cell_type": "markdown",
   "id": "ab521648",
   "metadata": {},
   "source": [
    "# set Operation"
   ]
  },
  {
   "cell_type": "code",
   "execution_count": 13,
   "id": "a720de24",
   "metadata": {},
   "outputs": [
    {
     "name": "stdout",
     "output_type": "stream",
     "text": [
      "union {1, 2, 3, 5, 7, 9, 11}\n",
      "Intersection {11, 3, 5, 7}\n",
      "Set_difference {1, 9}\n",
      "Exclusive_or {1, 2, 9}\n"
     ]
    }
   ],
   "source": [
    "odd = set([1,3,5,7,9,11])\n",
    "prime = set([2,3,5,7,11])\n",
    "\n",
    "Union = odd | prime    # {1, 2, 3, 5, 7, 9, 11}\n",
    "\n",
    "Intersection = odd & prime  #{3, 11, 5, 7}\n",
    "\n",
    "Set_difference = odd - prime  # {1, 9}\n",
    "\n",
    "Exclusive_or = odd ^ prime  #{1, 2, 9}\n",
    "\n",
    "print(\"union\",Union)\n",
    "print(\"Intersection\",Intersection) \n",
    "print(\"Set_difference\",Set_difference)\n",
    "print(\"Exclusive_or\",Exclusive_or)\n"
   ]
  },
  {
   "cell_type": "markdown",
   "id": "67929d92",
   "metadata": {},
   "source": [
    "# Stacks\n",
    "\n",
    "* Stack is a last-in, first-out list\n",
    "\n",
    "* push(s,x) — add x to stack s\n",
    "\n",
    "* pop(s) — return most recently added element\n",
    "\n",
    "* Maintain stack as list, push and pop from the right\n",
    "\n",
    "* push(s,x) is s.append(x)\n",
    "\n",
    "* s.pop() — Python built-in, returns last element"
   ]
  },
  {
   "cell_type": "markdown",
   "id": "6d085364",
   "metadata": {},
   "source": [
    "\n",
    "\n",
    "* Stacks are natural to keep track of recursive function calls\n",
    "\n",
    "* In 8 queens, use a stack to keep track of queens added\n",
    "\n",
    "* Push the latest queen onto the stack\n",
    "\n",
    "* To backtrack, pop the last queen added"
   ]
  },
  {
   "cell_type": "code",
   "execution_count": 14,
   "id": "3fda99b6",
   "metadata": {},
   "outputs": [
    {
     "name": "stdout",
     "output_type": "stream",
     "text": [
      "3\n",
      "2\n",
      "False\n",
      "2\n"
     ]
    }
   ],
   "source": [
    "list1 = []\n",
    "class stack:\n",
    "    def __init__(self):\n",
    "        self.items = []\n",
    "\n",
    "    def push(self, item):\n",
    "        self.items.append(item)\n",
    "\n",
    "    def pop(self):\n",
    "        if len(self.items) == 0:\n",
    "            return None\n",
    "        return self.items.pop()\n",
    "\n",
    "    def peek(self):\n",
    "        if len(self.items) == 0:\n",
    "            return None\n",
    "        return self.items[-1]\n",
    "\n",
    "    def is_empty(self):\n",
    "        return len(self.items) == 0\n",
    "\n",
    "    def size(self):\n",
    "        return len(self.items)\n",
    "s = stack()\n",
    "s.push(1)\n",
    "s.push(2)\n",
    "s.push(3)\n",
    "print(s.pop())  # Output: 3\n",
    "print(s.peek()) # Output: 2\n",
    "print(s.is_empty()) # Output: False\n",
    "print(s.size()) # Output: 2\n"
   ]
  },
  {
   "cell_type": "markdown",
   "id": "2e385e56",
   "metadata": {},
   "source": [
    "* Queues\n",
    "\n",
    "* First-in, first-out sequences\n",
    "\n",
    "* addq(q,x) — adds x to rear of queue q\n",
    "\n",
    "* removeq(q) — removes element at head of q\n",
    "\n",
    "* Using Python lists, left is rear, right is front\n",
    "\n",
    "* addq(q,x) is q.insert(0,x)\n",
    "\n",
    "* l.insert(j,x), insert x before position j\n",
    "\n",
    "* removeq(q) is q.pop()"
   ]
  },
  {
   "cell_type": "code",
   "execution_count": null,
   "id": "257b733d",
   "metadata": {},
   "outputs": [],
   "source": [
    "class queue:\n",
    "    def __init__(self):\n",
    "        self.items = []\n",
    "\n",
    "    def enqueue(self, item):\n",
    "        self.items.insert(0, item)\n",
    "\n",
    "    def dequeue(self):\n",
    "        if len(self.items) == 0:\n",
    "            return None\n",
    "        return self.items.pop()\n",
    "\n",
    "    def is_empty(self):\n",
    "        return len(self.items) == 0\n",
    "\n",
    "    def size(self):\n",
    "        return len(self.items)\n",
    "q = queue()\n",
    "q.enqueue(1)\n",
    "q.enqueue(2)\n",
    "q.enqueue(3)\n",
    "\n",
    "print(q.dequeue())  # Output: 1\n",
    "print(q.is_empty()) # Output: False \n",
    "print(q.size()) # Output: 2\n"
   ]
  },
  {
   "cell_type": "markdown",
   "id": "042a6a38",
   "metadata": {},
   "source": [
    "# Summary\n",
    "\n",
    "Data structures are ways of organising information\n",
    "that allow efficient processing in certain contexts\n",
    "\n",
    "Python has a built-in implementation of sets\n",
    "\n",
    "Stacks are useful to keep track of recursive\n",
    "computations\n",
    "\n",
    "Queues are useful for breadth-first exploration"
   ]
  }
 ],
 "metadata": {
  "kernelspec": {
   "display_name": "Python 3",
   "language": "python",
   "name": "python3"
  },
  "language_info": {
   "codemirror_mode": {
    "name": "ipython",
    "version": 3
   },
   "file_extension": ".py",
   "mimetype": "text/x-python",
   "name": "python",
   "nbconvert_exporter": "python",
   "pygments_lexer": "ipython3",
   "version": "3.12.3"
  }
 },
 "nbformat": 4,
 "nbformat_minor": 5
}
