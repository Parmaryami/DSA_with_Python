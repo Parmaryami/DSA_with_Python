{
 "cells": [
  {
   "cell_type": "markdown",
   "id": "55b6e03e",
   "metadata": {},
   "source": [
    "# Control Flow\n",
    "\n",
    "control flow determin order in which staement are executed\n",
    "1. conditional execution\n",
    "2. Repeated execution - loops\n",
    "3. Functions definations\n",
    "\n",
    "# Shortcuts for conditions\n",
    "\n",
    "Numeric value 0 is treated as False\n",
    "Empty sequence \"\", [] is treated as False\n",
    "Everything else is True\n",
    "\n",
    "    if m%n:\n",
    "        (m,n) = (n,m%n)\n",
    "    else:\n",
    "        gcd = n\n",
    "\n"
   ]
  },
  {
   "cell_type": "code",
   "execution_count": 1,
   "id": "cd8513f8",
   "metadata": {},
   "outputs": [
    {
     "name": "stdout",
     "output_type": "stream",
     "text": [
      "10 is not multiple of 3\n",
      "A\n"
     ]
    }
   ],
   "source": [
    "# conditional execution \n",
    "\n",
    "m = 10\n",
    "n = 3\n",
    "\n",
    "if m%n != 0:\n",
    "    print(m, \"is not multiple of\", n)\n",
    "else:\n",
    "    print(m, \"is multiple of\", n)\n",
    "\n",
    "''' Second statement is executed only if the condition m%n != 0 is True otherwise the else part is executed.\n",
    "Indentation demarcates body of if — must be uniform '''\n",
    "\n",
    "# Multiway branching , elif:\n",
    "marks = 85\n",
    "if marks < 25:\n",
    "    print(\"F\")\n",
    "elif marks < 45:\n",
    "    print(\"E\")  \n",
    "elif marks < 50:\n",
    "    print(\"D\")  \n",
    "elif marks < 60:\n",
    "    print(\"C\")          \n",
    "elif marks < 80:\n",
    "    print(\"B\")      \n",
    "else:\n",
    "    print(\"A\")  "
   ]
  },
  {
   "cell_type": "markdown",
   "id": "848332ff",
   "metadata": {},
   "source": [
    "# Loops repeated actions \n",
    "\n",
    "1. for loop -> Repeat something a fixed number of times\n",
    "2. while loop -> repeat based on a condition"
   ]
  },
  {
   "cell_type": "code",
   "execution_count": null,
   "id": "436613d4",
   "metadata": {},
   "outputs": [],
   "source": [
    "# For loop\n",
    "def factors(n):\n",
    "    flist = []\n",
    "    for i in range(1,n+1):\n",
    "        if n%i == 0:\n",
    "            flist = flist + [i]\n",
    "    return(flist)\n",
    "\n",
    "print(factors(36))  # [1, 2, 3, 4, 6, 9, 12, 18, 36]\n",
    "\n",
    "# while loop\n",
    "def gcd(m,n):\n",
    "    if m < n:\n",
    "        (m,n) = (n,m)\n",
    "    while m%n != 0:\n",
    "        (m,n) = (n,m%n)\n",
    "    return(n)\n",
    "print(gcd(36,60))  # 12\n"
   ]
  },
  {
   "cell_type": "markdown",
   "id": "e065ccfa",
   "metadata": {},
   "source": [
    "# Function Defination\n",
    "\n",
    "def f(a,b,c):\n",
    "    statement_1\n",
    "    statement_2\n",
    "    ..\n",
    "    return(v)\n",
    "    ..\n",
    "\n",
    "Function name, arguments/parameters.\n",
    "Body is indented.\n",
    "return() statement exits and returns a value.\n",
    "\n",
    "# Passing values ...\n",
    "\n",
    "Same rules apply for mutable, immutable values\n",
    "    1. Immutable value will not be affected at calling point.\n",
    "    2. Mutable values will be affected.\n"
   ]
  },
  {
   "cell_type": "code",
   "execution_count": 3,
   "id": "671753e8",
   "metadata": {},
   "outputs": [
    {
     "name": "stdout",
     "output_type": "stream",
     "text": [
      "[3, 11, 12]\n",
      "True\n",
      "[3, 13, 12]\n"
     ]
    }
   ],
   "source": [
    "def update(l,i,v):\n",
    "    if i >= 0 and i < len(l):\n",
    "        l[i] = v\n",
    "        return(True)\n",
    "    else:\n",
    "        v = v+1\n",
    "        return(False)\n",
    "    \n",
    "ns = [3,11,12]\n",
    "print(ns)\n",
    "print(update(ns,1,13))  # True\n",
    "print(ns)"
   ]
  },
  {
   "cell_type": "markdown",
   "id": "fed809c6",
   "metadata": {},
   "source": [
    "# scops of names \n",
    "\n",
    "Names within a function have local Scope\n"
   ]
  },
  {
   "cell_type": "code",
   "execution_count": 4,
   "id": "7998dd8d",
   "metadata": {},
   "outputs": [
    {
     "name": "stdout",
     "output_type": "stream",
     "text": [
      "7\n"
     ]
    }
   ],
   "source": [
    "def stupid(x):\n",
    "    n = 17\n",
    "    return(x)\n",
    "\n",
    "n = 7\n",
    "v = stupid(3)\n",
    "# what is n now? 7, unchanged\n",
    "print(n)\n",
    "# Name n inside function is separate from n outside"
   ]
  },
  {
   "cell_type": "code",
   "execution_count": null,
   "id": "3f782fbe",
   "metadata": {},
   "outputs": [],
   "source": [
    "# recursion Function : function call itself\n",
    "def factorial(n):\n",
    "    if n == 0:\n",
    "        return(1)\n",
    "    else:\n",
    "        return(n*factorial(n-1))    \n",
    "    "
   ]
  },
  {
   "cell_type": "markdown",
   "id": "0cb9d525",
   "metadata": {},
   "source": [
    "# Some examples\n",
    "\n",
    "find all factors of a number\n",
    "\n",
    "Primes\n",
    "Prime number — only factors are 1 and itself\n",
    "\n",
    "primes upto n\n",
    "Prime number — only factors are 1 and itself"
   ]
  },
  {
   "cell_type": "code",
   "execution_count": null,
   "id": "ff662ba0",
   "metadata": {},
   "outputs": [],
   "source": [
    "def factors(n):\n",
    "    flist = []\n",
    "    for i in range(1,n+1):\n",
    "        if n%i == 0:\n",
    "            flist = flist + [i]\n",
    "    return(flist)\n",
    "\n",
    "def isprime(n):\n",
    "    return(factors(n) == [1,n])\n",
    "\n",
    "def primesupto(n):\n",
    "    primelist = []\n",
    "    for i in range(1,n+1):\n",
    "        if isprime(i):\n",
    "            primelist = primelist + [i]\n",
    "    return(primelist)\n",
    "\n",
    "def nprimes(n):\n",
    "    (count,i,plist) = (0,1,[])\n",
    "    while(count < n):\n",
    "        if isprime(i):\n",
    "            (count,plist) = (count+1,plist+[i])\n",
    "        i = i+1\n",
    "    return(plist)\n",
    "\n",
    "factors(97)  # [1, 97]\n",
    "isprime(97)  # True"
   ]
  },
  {
   "cell_type": "markdown",
   "id": "8556920e",
   "metadata": {},
   "source": [
    "for and while\n",
    "\n",
    "Can use while to simulate for\n",
    "    for n in range(i,j):\n",
    "        statement\n",
    "\n",
    "    n = i\n",
    "    while n < j:\n",
    "        pass\n",
    "        n = n+1\n",
    "\n",
    "    for n in l:\n",
    "        statement\n",
    "\n",
    "    i = 0\n",
    "    while i < len(l):\n",
    "        n = l[i]\n",
    "        statement\n",
    "        i = i+1\n",
    "        \n",
    " # Note:\n",
    "for and while\n",
    "\n",
    "Can use while to simulate for\n",
    "\n",
    "However, use for where it is natural\n",
    "\n",
    "Makes for more readable code\n",
    "\n",
    "What makes a good program?\n",
    "\n",
    "Correctness and efficiency — algorithm\n",
    "\n",
    "Readability, ease of maintenance — style\n",
    "\n",
    "What you say, and how you say it"
   ]
  },
  {
   "cell_type": "markdown",
   "id": "28dd5bc9",
   "metadata": {},
   "source": [
    "# summary \n",
    "\n",
    "Normally, statements are executed top to bottom,\n",
    "in sequence\n",
    "\n",
    "Can alter the control flow\n",
    "\n",
    "if ... elif ... else — conditional execution\n",
    "\n",
    "for i in ... — repeat a fixed number of times\n",
    "\n",
    "while ... — repeat based on a condition\n",
    "\n",
    "Functions are a good way to organise code in logical\n",
    "chunks\n",
    "\n",
    "Passing arguments to a function is like assigning\n",
    "values to names\n",
    "\n",
    "Only mutable values can be updated\n",
    "\n",
    "Names in functions have local scope\n",
    "\n",
    "Functions must be defined before use\n",
    "\n",
    "Recursion — a function can call itself"
   ]
  }
 ],
 "metadata": {
  "kernelspec": {
   "display_name": "Python 3",
   "language": "python",
   "name": "python3"
  },
  "language_info": {
   "codemirror_mode": {
    "name": "ipython",
    "version": 3
   },
   "file_extension": ".py",
   "mimetype": "text/x-python",
   "name": "python",
   "nbconvert_exporter": "python",
   "pygments_lexer": "ipython3",
   "version": "3.12.3"
  }
 },
 "nbformat": 4,
 "nbformat_minor": 5
}
