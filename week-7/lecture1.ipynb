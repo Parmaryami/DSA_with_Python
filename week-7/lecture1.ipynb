{
 "cells": [
  {
   "cell_type": "markdown",
   "id": "6df2223b",
   "metadata": {},
   "source": [
    "DATA STRUCTRES\n",
    "\n",
    "* Behaviour defined through interface that dicite allowed set of operations.\n",
    "\n",
    "* Stack : push() and pop()\n",
    "* Queue : addq() and removeq()\n",
    "* Heap : inser() and delete_max()\n",
    "\n",
    "(Note: Heap implemented as a list h, does not mean h.append(7) is legal because it violate heap condition) "
   ]
  },
  {
   "cell_type": "markdown",
   "id": "64957278",
   "metadata": {},
   "source": [
    "# Abstract datatype\n",
    "\n",
    "*  define behaviour in terms of opeerations\n",
    "*  (s.push(v)).pop(v) == v\n",
    "\n",
    "* no reference to implementation details\n",
    "* Implementation can be optimized without affecting\n",
    "functionality\n"
   ]
  },
  {
   "cell_type": "markdown",
   "id": "3c7803ea",
   "metadata": {},
   "source": [
    "# Object Oriented programming\n",
    "\n",
    "Data type definition with\n",
    "\n",
    "Public interface\n",
    "\n",
    "Operations allowed on the data\n",
    "\n",
    "Private implementation\n",
    "\n",
    "Match the specification of the interface\n",
    "\n"
   ]
  },
  {
   "cell_type": "markdown",
   "id": "e025fd93",
   "metadata": {},
   "source": [
    "# Class\n",
    "\n",
    "* class is templete for a data type define buleprint for an object.\n",
    "* HOw data stored and how public functions manipulate data "
   ]
  },
  {
   "cell_type": "markdown",
   "id": "5bfbf180",
   "metadata": {},
   "source": [
    "# Object\n",
    "\n",
    "* oject is instance of a class"
   ]
  },
  {
   "cell_type": "code",
   "execution_count": null,
   "id": "3fdf335a",
   "metadata": {},
   "outputs": [
    {
     "name": "stdout",
     "output_type": "stream",
     "text": [
      "My name is Alice and I am 30 years old.\n",
      "My name is Bob and I am 25 years old.\n"
     ]
    }
   ],
   "source": [
    "# initializ Human class \n",
    "class Human:\n",
    "    def __init__(self, name, age):\n",
    "        self.name = name\n",
    "        self.age = age\n",
    "\n",
    "    def speak(self):\n",
    "        print(f\"My name is {self.name} and I am {self.age} years old.\")\n",
    "# create instances of Human class\n",
    "h1 = Human(\"Alice\", 30)\n",
    "h1.speak()\n",
    "h2 = Human(\"Bob\", 25)\n",
    "h2.speak()"
   ]
  },
  {
   "cell_type": "markdown",
   "id": "cd7a6761",
   "metadata": {},
   "source": [
    "# Inheritance\n",
    "\n",
    "* inherite property of perent class into cild class.\n",
    "* provide cose reuseability and rediuse code duplication.\n",
    "\n",
    "# Types of inheritance:\n",
    "1. Single inheritance\n",
    "2. Multi level inheritance\n",
    "3. hirachical inheritance\n",
    "4. Multiple inheritance"
   ]
  },
  {
   "cell_type": "code",
   "execution_count": 2,
   "id": "1b2c84f8",
   "metadata": {},
   "outputs": [
    {
     "name": "stdout",
     "output_type": "stream",
     "text": [
      "Parent's method1\n",
      "Child's method2\n"
     ]
    }
   ],
   "source": [
    "# single inheritance\n",
    "\n",
    "class Parent:\n",
    "    def method1(self):\n",
    "        print(\"Parent's method1\")\n",
    "\n",
    "class Child(Parent):\n",
    "    def method2(self):\n",
    "        print(\"Child's method2\")\n",
    "obj1 = Child()\n",
    "obj1.method1()\n",
    "obj1.method2()\n"
   ]
  },
  {
   "cell_type": "code",
   "execution_count": 5,
   "id": "d9e899e5",
   "metadata": {},
   "outputs": [
    {
     "name": "stdout",
     "output_type": "stream",
     "text": [
      "GrandParent's method1\n",
      "Parent's method2\n",
      "Child's method3\n"
     ]
    }
   ],
   "source": [
    "#multi level inheritance\n",
    "class GrandParent:\n",
    "    def method1(self):\n",
    "        print(\"GrandParent's method1\")\n",
    "class Parent(GrandParent):\n",
    "    def method2(self):\n",
    "        print(\"Parent's method2\")\n",
    "\n",
    "class Child(Parent):\n",
    "    def method3(self):\n",
    "        print(\"Child's method3\")\n",
    "obj2 = Child()\n",
    "obj2.method1()\n",
    "obj2.method2()\n",
    "obj2.method3()"
   ]
  },
  {
   "cell_type": "code",
   "execution_count": 4,
   "id": "c8b7976b",
   "metadata": {},
   "outputs": [
    {
     "name": "stdout",
     "output_type": "stream",
     "text": [
      "Food item: Burger, Price: $5.99\n",
      "Calories: 550 kcal\n",
      "Food item: Ice Cream, Price: $3.49\n",
      "Sweetness Level: 8/10\n"
     ]
    }
   ],
   "source": [
    "# multi level inheritance\n",
    "class Food():\n",
    "    def __init__(self, name, price):\n",
    "        self.name = name\n",
    "        self.price = price\n",
    "\n",
    "    def display(self):\n",
    "        print(f\"Food item: {self.name}, Price: ${self.price}\")\n",
    "\n",
    "class FastFood(Food):\n",
    "    def __init__(self, name, price, calories):\n",
    "        super().__init__(name, price)\n",
    "        self.calories = calories\n",
    "\n",
    "    def display(self):\n",
    "        super().display()\n",
    "        print(f\"Calories: {self.calories} kcal\")\n",
    "\n",
    "class Dessert(Food):\n",
    "\n",
    "    def __init__(self, name, price, sweetness_level):\n",
    "        super().__init__(name, price)\n",
    "        self.sweetness_level = sweetness_level\n",
    "\n",
    "    def display(self):\n",
    "        super().display()\n",
    "        print(f\"Sweetness Level: {self.sweetness_level}/10\")\n",
    "\n",
    "ff = FastFood(\"Burger\", 5.99, 550)\n",
    "ff.display()\n",
    "d = Dessert(\"Ice Cream\", 3.49, 8)\n",
    "d.display()\n"
   ]
  },
  {
   "cell_type": "code",
   "execution_count": 3,
   "id": "1ecc64eb",
   "metadata": {},
   "outputs": [
    {
     "name": "stdout",
     "output_type": "stream",
     "text": [
      "Parent1's method_a\n",
      "Parent2's method_b\n",
      "Child's method_c\n"
     ]
    }
   ],
   "source": [
    "# multiple inheritance\n",
    "\n",
    "class Parent1:\n",
    "    def method_a(self):\n",
    "        print(\"Parent1's method_a\")\n",
    "\n",
    "class Parent2:\n",
    "    def method_b(self):\n",
    "        print(\"Parent2's method_b\")\n",
    "\n",
    "class Child(Parent1, Parent2):\n",
    "    def method_c(self):\n",
    "        print(\"Child's method_c\")\n",
    "\n",
    "obj2 = Child()\n",
    "obj2.method_a()\n",
    "obj2.method_b()\n",
    "obj2.method_c()\n"
   ]
  },
  {
   "cell_type": "markdown",
   "id": "d76ad0a8",
   "metadata": {},
   "source": [
    "# Polymorphism in Python:\n",
    "\n",
    "* same function or method to behave differently depending on the object it is called upon \n",
    "* providing flexibility and reusability in code. \n",
    "\n",
    "# Types"
   ]
  },
  {
   "cell_type": "markdown",
   "id": "24263688",
   "metadata": {},
   "source": [
    "# 1. Method Overriding:\n",
    "\n",
    "* A child class inherits methods from a parent class and then redefines or modifies one or more of those methods to suit its specific needs."
   ]
  },
  {
   "cell_type": "code",
   "execution_count": 6,
   "id": "5097c9c5",
   "metadata": {},
   "outputs": [
    {
     "name": "stdout",
     "output_type": "stream",
     "text": [
      "Woof, Woof\n",
      "Meow, Meow\n"
     ]
    }
   ],
   "source": [
    "class Animal:\n",
    "    def speak(self):\n",
    "        print(\"Animal speaks\")\n",
    "\n",
    "class Dog(Animal):\n",
    "    def speak(self):\n",
    "        print(\"Woof, Woof\")\n",
    "\n",
    "class Cat(Animal):\n",
    "    def speak(self):\n",
    "        print(\"Meow, Meow\")\n",
    "\n",
    "def make_animal_speak(animal):\n",
    "    animal.speak()\n",
    "\n",
    "dog = Dog()\n",
    "cat = Cat()\n",
    "\n",
    "make_animal_speak(dog) # Output: Woof, Woof\n",
    "make_animal_speak(cat) # Output: Meow, Meow"
   ]
  },
  {
   "cell_type": "markdown",
   "id": "3a31ee01",
   "metadata": {},
   "source": [
    "# 2  Polymorphism with Functions and Objects (Duck Typing):\n",
    "\n",
    "Python's dynamic typing allows for a form of polymorphism known as \"duck typing.\" If an object \"walks like a duck and quacks like a duck,\" then it can be treated as a duck, regardless of its actual class."
   ]
  },
  {
   "cell_type": "code",
   "execution_count": null,
   "id": "df083dab",
   "metadata": {},
   "outputs": [],
   "source": [
    "class Duck:\n",
    "    def swim(self):\n",
    "        print(\"The duck is swimming.\")\n",
    "\n",
    "class Albatross:\n",
    "    def swim(self):\n",
    "        print(\"The albatross is swimming.\")\n",
    "\n",
    "birds = [Duck(), Albatross()]\n",
    "for bird in birds:\n",
    "    bird.swim()\n",
    "    # Output:\n",
    "    # The duck is swimming.\n",
    "    # The albatross is swimming."
   ]
  },
  {
   "cell_type": "markdown",
   "id": "b787e4f3",
   "metadata": {},
   "source": [
    "# operator overloading: "
   ]
  },
  {
   "cell_type": "code",
   "execution_count": 12,
   "id": "10bed678",
   "metadata": {},
   "outputs": [
    {
     "name": "stdout",
     "output_type": "stream",
     "text": [
      "Point(5, 3)\n"
     ]
    }
   ],
   "source": [
    "class point:\n",
    "    def __init__(self, a, b):\n",
    "        self.x = a\n",
    "        self.y = b\n",
    "\n",
    "    def translate(self, dx, dy):\n",
    "        self.x += dx\n",
    "        self.y += dy\n",
    "        return f\"Point({self.x}, {self.y})\"\n",
    "    \n",
    "\n",
    "p = point(3, 2)\n",
    "print(p.translate(2,1))"
   ]
  },
  {
   "cell_type": "markdown",
   "id": "48677081",
   "metadata": {},
   "source": [
    "# Special functions\n",
    "\n",
    "__init__()\n",
    "\n",
    "* Constructor, called when object is created\n",
    "\n",
    "__str__()\n",
    "\n",
    "* Return string representation of object\n",
    "\n",
    "str(o) == o.__str__()\n",
    "\n",
    "* Implicitly invoked by print()\n"
   ]
  },
  {
   "cell_type": "code",
   "execution_count": 14,
   "id": "a44b459e",
   "metadata": {},
   "outputs": [
    {
     "name": "stdout",
     "output_type": "stream",
     "text": [
      "6 + 8i\n"
     ]
    }
   ],
   "source": [
    "class complex:\n",
    "    def __init__(self, real, imag):\n",
    "        self.real = real\n",
    "        self.imag = imag\n",
    "\n",
    "    def __add__(self, other):\n",
    "        return complex(self.real + other.real, self.imag + other.imag)\n",
    "\n",
    "    def __str__(self):\n",
    "        return f\"{self.real} + {self.imag}i\"\n",
    "c1 = complex(2, 3)\n",
    "c2 = complex(4, 5)\n",
    "c3 = c1 + c2\n",
    "print(c3)  # Output: 6 + 8i"
   ]
  }
 ],
 "metadata": {
  "kernelspec": {
   "display_name": "Python 3",
   "language": "python",
   "name": "python3"
  },
  "language_info": {
   "codemirror_mode": {
    "name": "ipython",
    "version": 3
   },
   "file_extension": ".py",
   "mimetype": "text/x-python",
   "name": "python",
   "nbconvert_exporter": "python",
   "pygments_lexer": "ipython3",
   "version": "3.12.3"
  }
 },
 "nbformat": 4,
 "nbformat_minor": 5
}
