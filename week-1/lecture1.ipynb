{
 "cells": [
  {
   "cell_type": "markdown",
   "id": "8d1ae46e",
   "metadata": {},
   "source": [
    "GCD: Greatest common divisor\n",
    "\n",
    " GCD(m,n):  largest k such that k divide m and k divide n\n",
    "\n",
    " GCD(8, 12) = 4\n",
    " GCD(18, 25) = 1\n",
    "\n",
    "[ Note: 1 divide every number. atleast one common divisor for every m, n]"
   ]
  },
  {
   "cell_type": "markdown",
   "id": "47e5c9fa",
   "metadata": {},
   "source": [
    "# algorithm for GCD\n",
    "\n",
    "1. use fm, fn for list of factors of m,n respectively.\n",
    "2. for each i from 1 to m, add i to fm if i divide m.\n",
    "3. for each j from 1 to n, add j to fn if j divide n.\n",
    "4. use cf for list of common factors in fm and fn.\n",
    "5. for each f in fm, add cf if f also appers in fn.\n",
    "6. return largest(rightmost) value in cf"
   ]
  },
  {
   "cell_type": "code",
   "execution_count": 4,
   "id": "9034852a",
   "metadata": {},
   "outputs": [
    {
     "name": "stdout",
     "output_type": "stream",
     "text": [
      "6\n"
     ]
    }
   ],
   "source": [
    "def GCD(m,n):\n",
    "    fm =[]\n",
    "    for i in range(1,m+1):\n",
    "        if m%i==0:\n",
    "            fm.append(i)\n",
    "    fn = []\n",
    "    for j in range(1,n+1):\n",
    "        if n%j==0:\n",
    "            fn.append(j)\n",
    "    cf =[]\n",
    "    for k in fm:\n",
    "        if k in fn:\n",
    "            cf.append(k)\n",
    "    return cf[-1]\n",
    "print(GCD(78,90))  # 3"
   ]
  },
  {
   "cell_type": "markdown",
   "id": "9fed5924",
   "metadata": {},
   "source": [
    "# can we do batter ?\n",
    "\n",
    "we scan from 1 to m to compute fm and \n",
    "again from 1 to n to compute fn.\n",
    "\n",
    "# why not a single scan from 1 to max(m,n) ?\n",
    "\n",
    "for each i in 1 to max(m,n) add i to fm if i divide m \n",
    "and add i to fn if i divides n\n",
    "\n",
    "# why compute two lists and then compare them to compute common factors \"cf\" ?\n",
    "\n",
    "if i dives m and i also divide n then add i to cf.\n",
    "\n",
    "# actually, any common factor must be less than min(m,n) ?\n",
    "\n",
    "for each i in 1 to min(m,n) if i divides m \n",
    "and i also divide n then add i to cf."
   ]
  },
  {
   "cell_type": "code",
   "execution_count": 2,
   "id": "c3760e61",
   "metadata": {},
   "outputs": [
    {
     "name": "stdout",
     "output_type": "stream",
     "text": [
      "1\n"
     ]
    }
   ],
   "source": [
    "def GCD(m,n):\n",
    "    cf = []\n",
    "    for i in range(1,min(m,n)+1):\n",
    "        if m%i==0 and n%i==0:\n",
    "            cf.append(i)\n",
    "    return cf[-1]\n",
    "print(GCD(89,90))  # 3"
   ]
  },
  {
   "cell_type": "markdown",
   "id": "bc0b1460",
   "metadata": {},
   "source": [
    "# Do we need lists at all?\n",
    "\n",
    "We only need the largest common factor.\n",
    "1 will always be a common factor.\n",
    "Each time we find a largest common factor, discard the previous one. \n",
    "Remember so far and return it. "
   ]
  },
  {
   "cell_type": "code",
   "execution_count": 1,
   "id": "7a88211f",
   "metadata": {},
   "outputs": [
    {
     "name": "stdout",
     "output_type": "stream",
     "text": [
      "3\n"
     ]
    }
   ],
   "source": [
    "# NO list needed\n",
    "def GCD(m,n):\n",
    "    gcd = 1\n",
    "    for i in range(1,min(m,n)+1):\n",
    "        if m%i==0 and n%i==0:\n",
    "            gcd = i\n",
    "    return gcd\n",
    "print(GCD(12,15))  # 3"
   ]
  },
  {
   "cell_type": "markdown",
   "id": "7677a366",
   "metadata": {},
   "source": [
    "# Scan backward ?\n",
    "\n",
    "to find the largest common factor, start at the end and work backward."
   ]
  },
  {
   "cell_type": "code",
   "execution_count": 15,
   "id": "af4bfa37",
   "metadata": {},
   "outputs": [
    {
     "name": "stdout",
     "output_type": "stream",
     "text": [
      "10\n"
     ]
    }
   ],
   "source": [
    "def GCD(m,n):\n",
    "    i = min(m,n)\n",
    "    while i>0:\n",
    "        if m%i==0 and n%i==0:\n",
    "            return i\n",
    "        i -= 1\n",
    "\n",
    "print(GCD(1490,2000))  # 3"
   ]
  },
  {
   "cell_type": "markdown",
   "id": "a265603c",
   "metadata": {},
   "source": [
    "# Euclid's Algorithm:\n",
    "\n",
    "Sppouse d divide both m and n and m > n.\n",
    "then m = ad , n = bd\n",
    "so m - n = ad - bd = (a-b)d\n",
    "d divide m - n as well\n",
    "Consider GCD(m, n) = GCD(n, m-n)\n",
    "if n divides m , return n \n",
    "otherwise, compute GCD(n, m-n) and return that value.\n",
    "\n",
    "# even Better\n",
    "\n",
    "suppose n does not divide m \n",
    "then m = an + r, \n",
    "( where \"q\" is the quotient, \n",
    "\"r\" is the remainder when we divide m by n )\n",
    "\n",
    "Assume d divide both m and n \n",
    "Then m = ad, n = ab\n",
    "so ad = q(bd) + r\n",
    "\n",
    "it follows that r - cd, so d  divide r as well \n",
    "consider n divide m, return n\n",
    "otherwise, let r = m%n\n",
    "return GCD(n,r)"
   ]
  },
  {
   "cell_type": "code",
   "execution_count": null,
   "id": "8d989356",
   "metadata": {},
   "outputs": [
    {
     "name": "stdout",
     "output_type": "stream",
     "text": [
      "6\n",
      "6\n"
     ]
    }
   ],
   "source": [
    "\n",
    "# using Euclidean algorithm \n",
    "\n",
    "def GCD(m,n):\n",
    "    if m<n:\n",
    "        m,n = n,m\n",
    "    if m%n==0:\n",
    "        return n\n",
    "    else:\n",
    "        return GCD(n,m%n)  # recursion \n",
    "print(GCD(78,90))  \n",
    "\n",
    "def GCD(m,n):\n",
    "\n",
    "    if m < n:\n",
    "        m,n = n,m\n",
    "    while n!=0:\n",
    "        m,n = n,m%n\n",
    "    return m\n",
    "print(GCD(78,90))  "
   ]
  },
  {
   "cell_type": "markdown",
   "id": "9ee1d300",
   "metadata": {},
   "source": [
    "Efficiency :\n",
    "\n",
    "Can show that the second version of Euclid's algorithm takes time proportional to the number of digit in m . If m is 1 billion 10**9 the native algorithm takes billions of steps, But this program takes tens of steps.\n"
   ]
  }
 ],
 "metadata": {
  "kernelspec": {
   "display_name": "Python 3",
   "language": "python",
   "name": "python3"
  },
  "language_info": {
   "codemirror_mode": {
    "name": "ipython",
    "version": 3
   },
   "file_extension": ".py",
   "mimetype": "text/x-python",
   "name": "python",
   "nbconvert_exporter": "python",
   "pygments_lexer": "ipython3",
   "version": "3.12.3"
  }
 },
 "nbformat": 4,
 "nbformat_minor": 5
}
